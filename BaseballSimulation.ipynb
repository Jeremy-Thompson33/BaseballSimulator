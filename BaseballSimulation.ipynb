{
  "cells": [
    {
      "cell_type": "markdown",
      "metadata": {
        "colab_type": "text",
        "id": "view-in-github"
      },
      "source": [
        "<a href=\"https://colab.research.google.com/github/Jeremy-Thompson33/BaseballSimulator/blob/main/BaseballSimulation.ipynb\" target=\"_parent\"><img src=\"https://colab.research.google.com/assets/colab-badge.svg\" alt=\"Open In Colab\"/></a>"
      ]
    },
    {
      "cell_type": "markdown",
      "metadata": {
        "id": "y1TO8L34SkRX"
      },
      "source": [
        "# **Baseball Simulation**"
      ]
    },
    {
      "cell_type": "markdown",
      "metadata": {
        "id": "qCWHRC5yPBi9"
      },
      "source": [
        "### **Introduction**\n",
        "In this notebook I will be creating a baseball game simulator with real player statistics to help answer strategical questions. I will web scrape updated player statistics from various dynamic websites using Selenium. I will then clean the data from these sites and merge the data that is necessary for simulation into a single master table. When the data is ready, I will prepare a lineup using a Player class and run a simulation using the lineup."
      ]
    },
    {
      "cell_type": "markdown",
      "metadata": {
        "id": "3zV3AEkT-i_G"
      },
      "source": [
        "## Import Data"
      ]
    },
    {
      "cell_type": "code",
      "execution_count": 1,
      "metadata": {
        "id": "1KOaEnBQWjyk"
      },
      "outputs": [],
      "source": [
        "# Import packages\n",
        "import pandas as pd\n",
        "import numpy as np\n",
        "import random\n",
        "import time"
      ]
    },
    {
      "cell_type": "markdown",
      "metadata": {
        "id": "zMA7RQwp4sNh"
      },
      "source": [
        "### Set Up Selenium"
      ]
    },
    {
      "cell_type": "code",
      "execution_count": 3,
      "metadata": {
        "id": "2FZF4Wc84YzU"
      },
      "outputs": [],
      "source": [
        "# Import Selenium packages\n",
        "from selenium import webdriver\n",
        "from selenium.webdriver.chrome.service import Service\n",
        "from selenium.webdriver.chrome.options import Options\n",
        "from selenium.webdriver.common.by import By\n",
        "from selenium.webdriver.support.ui import WebDriverWait\n",
        "from webdriver_manager.chrome import ChromeDriverManager\n",
        "from selenium.webdriver.support import expected_conditions as EC"
      ]
    },
    {
      "cell_type": "code",
      "execution_count": 4,
      "metadata": {
        "id": "fQkf2Tnoj53L"
      },
      "outputs": [],
      "source": [
        "# Set up headless Chrome options\n",
        "options = Options()\n",
        "options.add_argument('--headless')  # Run in headless mode\n",
        "options.add_argument('--no-sandbox')\n",
        "options.add_argument('--disable-dev-shm-usage')"
      ]
    },
    {
      "cell_type": "markdown",
      "metadata": {
        "id": "GfCdXyofa4HJ"
      },
      "source": [
        "### Web Scrape Individual Hitting Stats Against LHP\n",
        "*https://www.mlb.com/stats/?split=vl*"
      ]
    },
    {
      "cell_type": "code",
      "execution_count": 5,
      "metadata": {
        "colab": {
          "base_uri": "https://localhost:8080/"
        },
        "id": "5ayQxEZ-5GPz",
        "outputId": "ac13f51b-3490-4cc6-9751-1f66c303f0a2"
      },
      "outputs": [
        {
          "name": "stdout",
          "output_type": "stream",
          "text": [
            "['PLAYER', 'TEAM', 'G', 'AB', 'R', 'H', '2B', '3B', 'HR', 'RBI', 'BB', 'SO', 'SB', 'CS', 'AVG', 'OBP', 'SLG', 'OPS']\n"
          ]
        }
      ],
      "source": [
        "# Initialize WebDriver\n",
        "service = Service(ChromeDriverManager().install())\n",
        "driver = webdriver.Chrome(service=service, options=options)\n",
        "\n",
        "# Get URL\n",
        "url = 'https://www.mlb.com/stats/?split=vl'\n",
        "driver.get(url)\n",
        "\n",
        "# Get table\n",
        "table = driver.find_element(By.XPATH, '//*[@id=\"stats-app-root\"]/section/section/div[4]/div[1]/div/table')\n",
        "\n",
        "# Extract headers from the table\n",
        "headers = table.find_elements(By.TAG_NAME, 'th')[0:18]\n",
        "\n",
        "# Clean headers\n",
        "headers_data = [h.text for h in headers]\n",
        "\n",
        "# Print headers\n",
        "print(headers_data)"
      ]
    },
    {
      "cell_type": "code",
      "execution_count": 7,
      "metadata": {
        "id": "0CSEkImnfOrW"
      },
      "outputs": [],
      "source": [
        "\"\"\"Gets and returns the first player name in the table\"\"\"\n",
        "def get_first_player_name(driver):\n",
        "    table = driver.find_element(By.XPATH, '//*[@id=\"stats-app-root\"]/section/section/div[4]/div[1]/div/table')\n",
        "    rows = table.find_elements(By.TAG_NAME, \"tr\")[1:]  # Skip header\n",
        "    if not rows:\n",
        "        return None\n",
        "    try:\n",
        "        player_cell = rows[0].find_element(By.TAG_NAME, 'a')\n",
        "        return player_cell.get_attribute('aria-label').strip()\n",
        "    except:\n",
        "        return None"
      ]
    },
    {
      "cell_type": "code",
      "execution_count": 8,
      "metadata": {
        "id": "LzkeL7sC6YyR"
      },
      "outputs": [],
      "source": [
        "# Define the specific columns wwanted\n",
        "desired_columns = ['TEAM', 'AB', 'H', '2B', '3B', 'HR', 'BB', 'SO', 'AVG', 'OBP', 'SLG']\n",
        "\n",
        "# Get indices of desired columns\n",
        "desired_indices = [(headers_data.index(col) - 1) for col in desired_columns]"
      ]
    },
    {
      "cell_type": "code",
      "execution_count": 9,
      "metadata": {
        "colab": {
          "base_uri": "https://localhost:8080/"
        },
        "collapsed": true,
        "id": "n-nIL9865z15",
        "outputId": "260d9345-2e4d-4082-e27c-b3cd8388d430"
      },
      "outputs": [
        {
          "name": "stdout",
          "output_type": "stream",
          "text": [
            "Could not click next button or no more pages.\n",
            "           Player TEAM   AB   H 2B 3B  HR  BB  SO   AVG   OBP   SLG\n",
            "0     Cal Raleigh  SEA  166  46  6  0  20  14  58  .277  .337  .675\n",
            "1  Kyle Schwarber  PHI  203  50  7  2  19  32  65  .246  .365  .581\n",
            "2     Aaron Judge  NYY  103  34  7  0  12  31  31  .330  .481  .748\n",
            "3   Shohei Ohtani  LAD  195  55  6  4  12  20  57  .282  .349  .538\n",
            "4  Eugenio Suárez  SEA  136  22  4  0  12  16  47  .162  .255  .456\n"
          ]
        }
      ],
      "source": [
        "# Extract data\n",
        "\n",
        "all_data = []\n",
        "wait = WebDriverWait(driver, 10)\n",
        "previous_first_player = None\n",
        "\n",
        "while True:\n",
        "    # Re-locate table and get rows\n",
        "    table = driver.find_element(By.XPATH, '//*[@id=\"stats-app-root\"]/section/section/div[4]/div[1]/div/table')\n",
        "    rows = table.find_elements(By.TAG_NAME, 'tr')[1:]  # Skip header\n",
        "\n",
        "    # Get the first player name in the table\n",
        "    current_first_player = get_first_player_name(driver)\n",
        "\n",
        "    # If same first player as previous page, no new data then exit\n",
        "    if current_first_player == previous_first_player and previous_first_player is not None:\n",
        "        print('No new page detected, exiting.')\n",
        "        break\n",
        "\n",
        "    previous_first_player = current_first_player\n",
        "\n",
        "    # Append data from rows into all_data list\n",
        "    for row in rows:\n",
        "        try:\n",
        "          player_name = row.find_element(By.TAG_NAME, 'a').get_attribute('aria-label').strip()\n",
        "        except:\n",
        "          continue\n",
        "\n",
        "\n",
        "        cells = row.find_elements(By.TAG_NAME, 'td')\n",
        "        if len(cells) == len(headers_data) - 1:\n",
        "            row_data = [cells[i].text for i in desired_indices]\n",
        "            row_data.insert(0, player_name)\n",
        "            all_data.append(row_data)\n",
        "\n",
        "    # Click Next button\n",
        "    try:\n",
        "        button = wait.until(EC.element_to_be_clickable((By.XPATH, '//button[@aria-label=\"next page button\"]')))\n",
        "        driver.execute_script('arguments[0].scrollIntoView(true);', button)\n",
        "        time.sleep(1)\n",
        "        driver.execute_script('arguments[0].click();', button)\n",
        "\n",
        "        # Wait until the first player's name changes / new page loads\n",
        "        wait.until(lambda d: get_first_player_name(d) != current_first_player)\n",
        "\n",
        "        time.sleep(1)\n",
        "    except:\n",
        "        print('Could not click next button or no more pages.')\n",
        "        break\n",
        "\n",
        "\n",
        "LHP_hitting_stats_df = pd.DataFrame(all_data, columns=['Player'] + desired_columns)\n",
        "print(LHP_hitting_stats_df.head())\n",
        "driver.quit()"
      ]
    },
    {
      "cell_type": "markdown",
      "metadata": {
        "id": "1ZE_t7qKjkmx"
      },
      "source": [
        "### Web Scrape Additional Individual Hitting Stats Against LHP"
      ]
    },
    {
      "cell_type": "code",
      "execution_count": 10,
      "metadata": {
        "id": "9_YZZD6Oj10C"
      },
      "outputs": [],
      "source": [
        "# Initialize WebDriver\n",
        "driver = webdriver.Chrome(options=options)\n",
        "wait = WebDriverWait(driver, 10)\n",
        "\n",
        "# Get URL\n",
        "driver.get(url)\n",
        "\n",
        "# Click expanded stats button\n",
        "try:\n",
        "    button = wait.until(EC.element_to_be_clickable((By.XPATH, '/html/body/main/div[2]/section/section/div[1]/div[2]/div/div[1]/div/div[2]/button')))\n",
        "    driver.execute_script('arguments[0].scrollIntoView(true);', button)\n",
        "    time.sleep(1)\n",
        "    driver.execute_script('arguments[0].click();', button)\n",
        "    time.sleep(1)\n",
        "except Exception as e:\n",
        "    print('Could not click button:', e)"
      ]
    },
    {
      "cell_type": "code",
      "execution_count": 11,
      "metadata": {
        "colab": {
          "base_uri": "https://localhost:8080/"
        },
        "id": "JE-UqfC9nVvN",
        "outputId": "5477925c-4dab-4dfd-e7e3-86eb762b512d"
      },
      "outputs": [
        {
          "name": "stdout",
          "output_type": "stream",
          "text": [
            "['PLAYER', 'TEAM', 'PA', 'HBP', 'SAC', 'SF', 'GIDP', 'GO/AO', 'XBH', 'TB', 'IBB', 'BABIP', 'ISO', 'AB/HR', 'BB/K', 'BB%', 'K%']\n"
          ]
        }
      ],
      "source": [
        "# Get table\n",
        "table = driver.find_element(By.XPATH, '//*[@id=\"stats-app-root\"]/section/section/div[4]/div[1]/div/table')\n",
        "\n",
        "# Extract headers from the table\n",
        "headers = table.find_elements(By.TAG_NAME, 'th')[0:17]\n",
        "\n",
        "# Clean headers\n",
        "headers_data = [h.text for h in headers]\n",
        "\n",
        "# Print headers\n",
        "print(headers_data)"
      ]
    },
    {
      "cell_type": "code",
      "execution_count": 12,
      "metadata": {
        "id": "naOE0BmhqCKb"
      },
      "outputs": [],
      "source": [
        "# Define the specific columns wwanted\n",
        "desired_columns = ['TEAM', 'PA', 'HBP', 'SAC', 'SF']\n",
        "\n",
        "# Get indices of desired columns\n",
        "desired_indices = [(headers_data.index(col) - 1) for col in desired_columns]"
      ]
    },
    {
      "cell_type": "code",
      "execution_count": 13,
      "metadata": {
        "colab": {
          "base_uri": "https://localhost:8080/"
        },
        "id": "N-eYp0IjrV62",
        "outputId": "a3cc1981-307a-4b58-e10d-825be5923576"
      },
      "outputs": [
        {
          "name": "stdout",
          "output_type": "stream",
          "text": [
            "Could not click next button or no more pages.\n",
            "           Player TEAM   PA HBP SAC SF\n",
            "0     Cal Raleigh  SEA  174   1   0  0\n",
            "1  Kyle Schwarber  PHI  237   5   0  0\n",
            "2     Aaron Judge  NYY  135   0   0  1\n",
            "3   Shohei Ohtani  LAD  206   0   0  0\n",
            "4  Eugenio Suárez  SEA   38   1   0  0\n"
          ]
        }
      ],
      "source": [
        "# Extract data\n",
        "all_data = []\n",
        "previous_first_player = None\n",
        "\n",
        "while True:\n",
        "    # Re-locate table and get rows\n",
        "    table = driver.find_element(By.XPATH, '//*[@id=\"stats-app-root\"]/section/section/div[4]/div[1]/div/table')\n",
        "    rows = table.find_elements(By.TAG_NAME, 'tr')[1:]  # Skip header\n",
        "\n",
        "    # Get the first player name in the table\n",
        "    current_first_player = get_first_player_name(driver)\n",
        "\n",
        "    # If same first player as previous page, no new data then exit\n",
        "    if current_first_player == previous_first_player and previous_first_player is not None:\n",
        "        print('No new page detected, exiting.')\n",
        "        break\n",
        "\n",
        "    previous_first_player = current_first_player\n",
        "\n",
        "    # Append data from rows into all_data list\n",
        "    for row in rows:\n",
        "        try:\n",
        "          player_name = row.find_element(By.TAG_NAME, 'a').get_attribute('aria-label').strip()\n",
        "        except:\n",
        "          continue\n",
        "\n",
        "\n",
        "        cells = row.find_elements(By.TAG_NAME, 'td')\n",
        "        if len(cells) == len(headers_data) - 1:\n",
        "            row_data = [cells[i].text for i in desired_indices]\n",
        "            row_data.insert(0, player_name)\n",
        "            all_data.append(row_data)\n",
        "\n",
        "    # Click Next button\n",
        "    try:\n",
        "        button = wait.until(EC.element_to_be_clickable((By.XPATH, '//button[@aria-label=\"next page button\"]')))\n",
        "        driver.execute_script('arguments[0].scrollIntoView(true);', button)\n",
        "        time.sleep(1)\n",
        "        driver.execute_script('arguments[0].click();', button)\n",
        "\n",
        "        # Wait until the first player's name changes / new page loads\n",
        "        wait.until(lambda d: get_first_player_name(d) != current_first_player)\n",
        "\n",
        "        time.sleep(1)\n",
        "    except:\n",
        "        print('Could not click next button or no more pages.')\n",
        "        break\n",
        "\n",
        "\n",
        "LHP_pa_stats_df = pd.DataFrame(all_data, columns=['Player'] + desired_columns)\n",
        "print(LHP_pa_stats_df.head())\n",
        "driver.quit()"
      ]
    },
    {
      "cell_type": "markdown",
      "metadata": {
        "id": "hf2u-ERNjuDz"
      },
      "source": [
        "### Web Scrape Individual Hitting Stats Against RHP\n",
        "*https://www.mlb.com/stats/?split=vr*"
      ]
    },
    {
      "cell_type": "code",
      "execution_count": 17,
      "metadata": {
        "colab": {
          "base_uri": "https://localhost:8080/"
        },
        "id": "ZQq2UqRgkCZF",
        "outputId": "71987e5a-f23d-42f5-c6c6-a9e948a0f593"
      },
      "outputs": [
        {
          "name": "stdout",
          "output_type": "stream",
          "text": [
            "['PLAYER', 'TEAM', 'G', 'AB', 'R', 'H', '2B', '3B', 'HR', 'RBI', 'BB', 'SO', 'SB', 'CS', 'AVG', 'OBP', 'SLG', 'OPS']\n"
          ]
        }
      ],
      "source": [
        "# Initialize WebDriver\n",
        "driver = webdriver.Chrome(service=service, options=options)\n",
        "\n",
        "# Get URL\n",
        "url = 'https://www.mlb.com/stats/?split=vr'\n",
        "driver.get(url)\n",
        "\n",
        "# Get table\n",
        "table = driver.find_element(By.XPATH, '//*[@id=\"stats-app-root\"]/section/section/div[4]/div[1]/div/table')\n",
        "\n",
        "# Extract headers from the table\n",
        "headers = table.find_elements(By.TAG_NAME, 'th')[0:18]\n",
        "\n",
        "# Clean headers\n",
        "headers_data = [h.text for h in headers]\n",
        "\n",
        "# Print headers\n",
        "print(headers_data)"
      ]
    },
    {
      "cell_type": "code",
      "execution_count": 18,
      "metadata": {
        "id": "wZh2fpPB0dHl"
      },
      "outputs": [],
      "source": [
        "# Define the specific columns you want\n",
        "desired_columns = ['TEAM', 'AB', 'H', '2B', '3B', 'HR', 'BB', 'SO', 'AVG', 'OBP', 'SLG']\n",
        "\n",
        "# Get indices of desired columns\n",
        "desired_indices = [(headers_data.index(col) - 1) for col in desired_columns]"
      ]
    },
    {
      "cell_type": "code",
      "execution_count": 19,
      "metadata": {
        "colab": {
          "base_uri": "https://localhost:8080/"
        },
        "id": "CVb6lvdhkDse",
        "outputId": "b1503f7f-5095-45d3-e273-443fe53b5974"
      },
      "outputs": [
        {
          "name": "stdout",
          "output_type": "stream",
          "text": [
            "Could not click next button or no more pages.\n",
            "            Player TEAM   AB    H  2B 3B  HR  BB   SO   AVG   OBP   SLG\n",
            "0    Shohei Ohtani  LAD  346   96  14  4  36  76  107  .277  .410  .653\n",
            "1      Cal Raleigh  SEA  361   82  13  0  33  68  109  .227  .356  .537\n",
            "2   Eugenio Suárez  SEA  377  100  21  0  33  24  118  .265  .329  .584\n",
            "3      Aaron Judge  NYY  377  120  21  2  31  73  115  .318  .431  .631\n",
            "4  Junior Caminero   TB  384  103  20  0  30  22   85  .268  .307  .555\n"
          ]
        }
      ],
      "source": [
        "# Extract data\n",
        "all_data = []\n",
        "wait = WebDriverWait(driver, 10)\n",
        "previous_first_player = None\n",
        "\n",
        "while True:\n",
        "    # Re-locate table and get rows\n",
        "    table = driver.find_element(By.XPATH, '//*[@id=\"stats-app-root\"]/section/section/div[4]/div[1]/div/table')\n",
        "    rows = table.find_elements(By.TAG_NAME, 'tr')[1:]  # Skip header\n",
        "\n",
        "    # Get the first player name in the table\n",
        "    current_first_player = get_first_player_name(driver)\n",
        "\n",
        "    # If same first player as previous page, no new data then exit\n",
        "    if current_first_player == previous_first_player and previous_first_player is not None:\n",
        "        print('No new page detected, exiting.')\n",
        "        break\n",
        "\n",
        "    previous_first_player = current_first_player\n",
        "\n",
        "    # Append data from rows into all_data list\n",
        "    for row in rows:\n",
        "        try:\n",
        "          player_name = row.find_element(By.TAG_NAME, 'a').get_attribute('aria-label').strip()\n",
        "        except:\n",
        "          continue\n",
        "\n",
        "\n",
        "        cells = row.find_elements(By.TAG_NAME, 'td')\n",
        "        if len(cells) == len(headers_data) - 1:\n",
        "            row_data = [cells[i].text for i in desired_indices]\n",
        "            row_data.insert(0, player_name)\n",
        "            all_data.append(row_data)\n",
        "\n",
        "    # Click Next button\n",
        "    try:\n",
        "        button = wait.until(EC.element_to_be_clickable((By.XPATH, '//button[@aria-label=\"next page button\"]')))\n",
        "        driver.execute_script('arguments[0].scrollIntoView(true);', button)\n",
        "        time.sleep(1)\n",
        "        driver.execute_script('arguments[0].click();', button)\n",
        "\n",
        "        # Wait until the first player's name changes / new page loads\n",
        "        wait.until(lambda d: get_first_player_name(d) != current_first_player)\n",
        "\n",
        "        time.sleep(1)\n",
        "    except:\n",
        "        print('Could not click next button or no more pages.')\n",
        "        break\n",
        "\n",
        "\n",
        "RHP_hitting_stats_df = pd.DataFrame(all_data, columns=['Player'] + desired_columns)\n",
        "print(RHP_hitting_stats_df.head())\n",
        "driver.quit()"
      ]
    },
    {
      "cell_type": "markdown",
      "metadata": {
        "id": "uRwuCCoVu75K"
      },
      "source": [
        "### Web Scrape Additional Individual Hitting Stats Against RHP"
      ]
    },
    {
      "cell_type": "code",
      "execution_count": 20,
      "metadata": {
        "id": "zQ_w5qTJvDvd"
      },
      "outputs": [],
      "source": [
        "# Initialize WebDriver\n",
        "driver = webdriver.Chrome(service=service, options=options)\n",
        "wait = WebDriverWait(driver, 10)\n",
        "\n",
        "# Get URL\n",
        "driver.get(url)\n",
        "\n",
        "# Click expanded stats button\n",
        "try:\n",
        "    button = wait.until(EC.element_to_be_clickable((By.XPATH, '/html/body/main/div[2]/section/section/div[1]/div[2]/div/div[1]/div/div[2]/button')))\n",
        "    driver.execute_script('arguments[0].scrollIntoView(true);', button)\n",
        "    time.sleep(1)\n",
        "    driver.execute_script('arguments[0].click();', button)\n",
        "    time.sleep(1)\n",
        "except Exception as e:\n",
        "    print('Could not click button:', e)"
      ]
    },
    {
      "cell_type": "code",
      "execution_count": 21,
      "metadata": {
        "colab": {
          "base_uri": "https://localhost:8080/"
        },
        "id": "Ime7AFUBvEDg",
        "outputId": "99fc6472-dc09-47d3-88a1-44be4b538611"
      },
      "outputs": [
        {
          "name": "stdout",
          "output_type": "stream",
          "text": [
            "['PLAYER', 'TEAM', 'PA', 'HBP', 'SAC', 'SF', 'GIDP', 'GO/AO', 'XBH', 'TB', 'IBB', 'BABIP', 'ISO', 'AB/HR', 'BB/K', 'BB%', 'K%']\n"
          ]
        }
      ],
      "source": [
        "# Get table\n",
        "table = driver.find_element(By.XPATH, '//*[@id=\"stats-app-root\"]/section/section/div[4]/div[1]/div/table')\n",
        "\n",
        "# Extract headers from the table\n",
        "headers = table.find_elements(By.TAG_NAME, 'th')[0:17]\n",
        "\n",
        "# Clean headers\n",
        "headers_data = [h.text for h in headers]\n",
        "\n",
        "# Print headers\n",
        "print(headers_data)"
      ]
    },
    {
      "cell_type": "code",
      "execution_count": 22,
      "metadata": {
        "id": "8rNI_KSIvEQS"
      },
      "outputs": [],
      "source": [
        "# Define the specific columns wwanted\n",
        "desired_columns = ['TEAM', 'PA', 'HBP', 'SAC', 'SF']\n",
        "\n",
        "# Get indices of desired columns\n",
        "desired_indices = [(headers_data.index(col) - 1) for col in desired_columns]"
      ]
    },
    {
      "cell_type": "code",
      "execution_count": 23,
      "metadata": {
        "colab": {
          "base_uri": "https://localhost:8080/"
        },
        "id": "d7ExAMrzvWFX",
        "outputId": "dc25d75c-438e-4030-81cf-fccc79ea8cc7"
      },
      "outputs": [
        {
          "name": "stdout",
          "output_type": "stream",
          "text": [
            "Could not click next button or no more pages.\n",
            "            Player TEAM   PA HBP SAC SF\n",
            "0    Shohei Ohtani  LAD  413   3   0  2\n",
            "1      Cal Raleigh  SEA  429   6   0  3\n",
            "2   Eugenio Suárez  SEA   86   0   0  1\n",
            "3      Aaron Judge  NYY  444   5   0  4\n",
            "4  Junior Caminero   TB  406   1   0  4\n"
          ]
        }
      ],
      "source": [
        "# Extract data\n",
        "all_data = []\n",
        "previous_first_player = None\n",
        "\n",
        "while True:\n",
        "    # Re-locate table and get rows\n",
        "    table = driver.find_element(By.XPATH, '//*[@id=\"stats-app-root\"]/section/section/div[4]/div[1]/div/table')\n",
        "    rows = table.find_elements(By.TAG_NAME, 'tr')[1:]  # Skip header\n",
        "\n",
        "    # Get the first player name in the table\n",
        "    current_first_player = get_first_player_name(driver)\n",
        "\n",
        "    # If same first player as previous page, no new data then exit\n",
        "    if current_first_player == previous_first_player and previous_first_player is not None:\n",
        "        print('No new page detected, exiting.')\n",
        "        break\n",
        "\n",
        "    previous_first_player = current_first_player\n",
        "\n",
        "    # Append data from rows into all_data list\n",
        "    for row in rows:\n",
        "          try:\n",
        "            player_name = row.find_element(By.TAG_NAME, 'a').get_attribute('aria-label').strip()\n",
        "          except:\n",
        "            continue\n",
        "\n",
        "\n",
        "          cells = row.find_elements(By.TAG_NAME, 'td')\n",
        "          if len(cells) == len(headers_data) - 1:\n",
        "              row_data = [cells[i].text for i in desired_indices]\n",
        "              row_data.insert(0, player_name)\n",
        "              all_data.append(row_data)\n",
        "\n",
        "    # Click Next button\n",
        "    try:\n",
        "        button = wait.until(EC.element_to_be_clickable((By.XPATH, '//button[@aria-label=\"next page button\"]')))  # wait until old row becomes stale\n",
        "\n",
        "        # wait.until(EC.element_to_be_clickable((By.XPATH, '//button[@aria-label=\"next page button\"]')))\n",
        "        driver.execute_script('arguments[0].scrollIntoView(true);', button)\n",
        "        time.sleep(1)\n",
        "        driver.execute_script('arguments[0].click();', button)\n",
        "\n",
        "        # Wait until the first player's name changes / new page loads\n",
        "        wait.until(lambda d: get_first_player_name(d) != current_first_player)\n",
        "\n",
        "        time.sleep(1)\n",
        "    except:\n",
        "        print('Could not click next button or no more pages.')\n",
        "        break\n",
        "\n",
        "\n",
        "RHP_pa_stats_df = pd.DataFrame(all_data, columns=['Player'] + desired_columns)\n",
        "print(RHP_pa_stats_df.head())\n",
        "driver.quit()"
      ]
    },
    {
      "cell_type": "markdown",
      "metadata": {
        "id": "cTyeEsgGa9U_"
      },
      "source": [
        "### Web Scrape for Advanced Hitting Statistics"
      ]
    },
    {
      "cell_type": "code",
      "execution_count": 25,
      "metadata": {
        "colab": {
          "base_uri": "https://localhost:8080/"
        },
        "id": "Fsaw8dl3P99U",
        "outputId": "c84a32fc-275a-424e-ec17-fc127a832dec"
      },
      "outputs": [
        {
          "name": "stdout",
          "output_type": "stream",
          "text": [
            "['Rk.', 'Player', 'Team', 'BBE', 'GB%', 'AIR%', 'FB%', 'LD%', 'PU%', 'Pull%', 'Straight%', 'Oppo%', 'PullGB%', 'StraightGB%', 'OppoGB%', 'PullAIR%', 'StraightAIR%', 'OppoAIR%']\n"
          ]
        }
      ],
      "source": [
        "# Initialize WebDriver\n",
        "driver = webdriver.Chrome(service=service, options=options)\n",
        "\n",
        "# Get website URL\n",
        "url = 'https://baseballsavant.mlb.com/leaderboard/batted-ball?gameType=Regular&minSwings=50&minGroupSwings=1&seasonStart=2025&seasonEnd=2025&type=batter&sortColumn=pull_air_rate&sortDirection=desc'\n",
        "driver.get(url)\n",
        "\n",
        "# Locate the table by its class name\n",
        "table = driver.find_element(By.CLASS_NAME, 'table-savant')\n",
        "\n",
        "# Extract headers from the table\n",
        "headers = table.find_elements(By.TAG_NAME, 'th')[6:24]\n",
        "\n",
        "# Clean headers\n",
        "headers_data = [h.text.replace(' ', '').replace('\\n', '') for h in headers]\n",
        "\n",
        "# Print headers\n",
        "print(headers_data)"
      ]
    },
    {
      "cell_type": "code",
      "execution_count": 26,
      "metadata": {
        "colab": {
          "base_uri": "https://localhost:8080/",
          "height": 206
        },
        "id": "qWcZ1vPWTEE8",
        "outputId": "65ab4ad4-ae8c-429f-8013-e27c36b22c2a"
      },
      "outputs": [
        {
          "data": {
            "text/html": [
              "<div>\n",
              "<style scoped>\n",
              "    .dataframe tbody tr th:only-of-type {\n",
              "        vertical-align: middle;\n",
              "    }\n",
              "\n",
              "    .dataframe tbody tr th {\n",
              "        vertical-align: top;\n",
              "    }\n",
              "\n",
              "    .dataframe thead th {\n",
              "        text-align: right;\n",
              "    }\n",
              "</style>\n",
              "<table border=\"1\" class=\"dataframe\">\n",
              "  <thead>\n",
              "    <tr style=\"text-align: right;\">\n",
              "      <th></th>\n",
              "      <th>Rk.</th>\n",
              "      <th>Player</th>\n",
              "      <th>Team</th>\n",
              "      <th>BBE</th>\n",
              "      <th>GB%</th>\n",
              "      <th>AIR%</th>\n",
              "      <th>FB%</th>\n",
              "      <th>LD%</th>\n",
              "      <th>PU%</th>\n",
              "      <th>Pull%</th>\n",
              "      <th>Straight%</th>\n",
              "      <th>Oppo%</th>\n",
              "      <th>PullGB%</th>\n",
              "      <th>StraightGB%</th>\n",
              "      <th>OppoGB%</th>\n",
              "      <th>PullAIR%</th>\n",
              "      <th>StraightAIR%</th>\n",
              "      <th>OppoAIR%</th>\n",
              "    </tr>\n",
              "  </thead>\n",
              "  <tbody>\n",
              "    <tr>\n",
              "      <th>0</th>\n",
              "      <td>1</td>\n",
              "      <td>Raleigh, Cal</td>\n",
              "      <td></td>\n",
              "      <td>359</td>\n",
              "      <td>25.1%</td>\n",
              "      <td>74.9%</td>\n",
              "      <td>43.2%</td>\n",
              "      <td>18.4%</td>\n",
              "      <td>13.4%</td>\n",
              "      <td>54.9%</td>\n",
              "      <td>25.1%</td>\n",
              "      <td>20.1%</td>\n",
              "      <td>15.9%</td>\n",
              "      <td>6.1%</td>\n",
              "      <td>3.1%</td>\n",
              "      <td>39.0%</td>\n",
              "      <td>18.9%</td>\n",
              "      <td>17.0%</td>\n",
              "    </tr>\n",
              "    <tr>\n",
              "      <th>1</th>\n",
              "      <td>2</td>\n",
              "      <td>Melendez, MJ</td>\n",
              "      <td></td>\n",
              "      <td>37</td>\n",
              "      <td>32.4%</td>\n",
              "      <td>67.6%</td>\n",
              "      <td>40.5%</td>\n",
              "      <td>13.5%</td>\n",
              "      <td>13.5%</td>\n",
              "      <td>62.2%</td>\n",
              "      <td>27.0%</td>\n",
              "      <td>10.8%</td>\n",
              "      <td>24.3%</td>\n",
              "      <td>8.1%</td>\n",
              "      <td>0.0%</td>\n",
              "      <td>37.8%</td>\n",
              "      <td>18.9%</td>\n",
              "      <td>10.8%</td>\n",
              "    </tr>\n",
              "    <tr>\n",
              "      <th>2</th>\n",
              "      <td>3</td>\n",
              "      <td>Paredes, Isaac</td>\n",
              "      <td></td>\n",
              "      <td>286</td>\n",
              "      <td>31.1%</td>\n",
              "      <td>68.9%</td>\n",
              "      <td>32.5%</td>\n",
              "      <td>25.5%</td>\n",
              "      <td>10.8%</td>\n",
              "      <td>56.3%</td>\n",
              "      <td>26.9%</td>\n",
              "      <td>16.8%</td>\n",
              "      <td>18.9%</td>\n",
              "      <td>8.0%</td>\n",
              "      <td>4.2%</td>\n",
              "      <td>37.4%</td>\n",
              "      <td>18.9%</td>\n",
              "      <td>12.6%</td>\n",
              "    </tr>\n",
              "    <tr>\n",
              "      <th>3</th>\n",
              "      <td>4</td>\n",
              "      <td>Schneider, Davis</td>\n",
              "      <td></td>\n",
              "      <td>100</td>\n",
              "      <td>26.0%</td>\n",
              "      <td>74.0%</td>\n",
              "      <td>41.0%</td>\n",
              "      <td>17.0%</td>\n",
              "      <td>16.0%</td>\n",
              "      <td>54.0%</td>\n",
              "      <td>34.0%</td>\n",
              "      <td>12.0%</td>\n",
              "      <td>18.0%</td>\n",
              "      <td>8.0%</td>\n",
              "      <td>0.0%</td>\n",
              "      <td>36.0%</td>\n",
              "      <td>26.0%</td>\n",
              "      <td>12.0%</td>\n",
              "    </tr>\n",
              "    <tr>\n",
              "      <th>4</th>\n",
              "      <td>5</td>\n",
              "      <td>Hoskins, Rhys</td>\n",
              "      <td></td>\n",
              "      <td>190</td>\n",
              "      <td>29.5%</td>\n",
              "      <td>70.5%</td>\n",
              "      <td>34.2%</td>\n",
              "      <td>25.8%</td>\n",
              "      <td>10.5%</td>\n",
              "      <td>52.1%</td>\n",
              "      <td>33.2%</td>\n",
              "      <td>14.7%</td>\n",
              "      <td>16.8%</td>\n",
              "      <td>10.0%</td>\n",
              "      <td>2.6%</td>\n",
              "      <td>35.3%</td>\n",
              "      <td>23.2%</td>\n",
              "      <td>12.1%</td>\n",
              "    </tr>\n",
              "  </tbody>\n",
              "</table>\n",
              "</div>"
            ],
            "text/plain": [
              "  Rk.            Player Team  BBE    GB%   AIR%    FB%    LD%    PU%  Pull%  \\\n",
              "0   1      Raleigh, Cal       359  25.1%  74.9%  43.2%  18.4%  13.4%  54.9%   \n",
              "1   2      Melendez, MJ        37  32.4%  67.6%  40.5%  13.5%  13.5%  62.2%   \n",
              "2   3    Paredes, Isaac       286  31.1%  68.9%  32.5%  25.5%  10.8%  56.3%   \n",
              "3   4  Schneider, Davis       100  26.0%  74.0%  41.0%  17.0%  16.0%  54.0%   \n",
              "4   5     Hoskins, Rhys       190  29.5%  70.5%  34.2%  25.8%  10.5%  52.1%   \n",
              "\n",
              "  Straight%  Oppo% PullGB% StraightGB% OppoGB% PullAIR% StraightAIR% OppoAIR%  \n",
              "0     25.1%  20.1%   15.9%        6.1%    3.1%    39.0%        18.9%    17.0%  \n",
              "1     27.0%  10.8%   24.3%        8.1%    0.0%    37.8%        18.9%    10.8%  \n",
              "2     26.9%  16.8%   18.9%        8.0%    4.2%    37.4%        18.9%    12.6%  \n",
              "3     34.0%  12.0%   18.0%        8.0%    0.0%    36.0%        26.0%    12.0%  \n",
              "4     33.2%  14.7%   16.8%       10.0%    2.6%    35.3%        23.2%    12.1%  "
            ]
          },
          "execution_count": 26,
          "metadata": {},
          "output_type": "execute_result"
        }
      ],
      "source": [
        "# Extract all the rows from the table\n",
        "rows = table.find_elements(By.CLASS_NAME, 'default-table-row')\n",
        "\n",
        "# Extract data from rows and add it to the data list\n",
        "data = []\n",
        "\n",
        "for row in rows:\n",
        "    row_data = row.find_elements(By.TAG_NAME, 'td')\n",
        "    individual_row_data = [cell.text.strip() for cell in row_data]\n",
        "    data.append(individual_row_data)\n",
        "\n",
        "# Create DataFrame with headers and data lists\n",
        "batted_ball_event_df = pd.DataFrame(data, columns=headers_data)\n",
        "\n",
        "# Print dataframe\n",
        "batted_ball_event_df.head()"
      ]
    },
    {
      "cell_type": "markdown",
      "metadata": {
        "id": "LyZLY-pbyHkD"
      },
      "source": [
        "## Clean Data"
      ]
    },
    {
      "cell_type": "code",
      "execution_count": 27,
      "metadata": {
        "id": "JwJtaqISUtCn"
      },
      "outputs": [],
      "source": [
        "import unicodedata\n",
        "\n",
        "# Strips strings of accents\n",
        "def remove_accents(text):\n",
        "    if isinstance(text, str):\n",
        "        return ''.join(\n",
        "            c for c in unicodedata.normalize('NFD', text)\n",
        "            if unicodedata.category(c) != 'Mn'\n",
        "        )\n",
        "    return text"
      ]
    },
    {
      "cell_type": "markdown",
      "metadata": {
        "id": "ujRUS-XO8-Oo"
      },
      "source": [
        "### Clean LHP Hitting Stats Dataframes"
      ]
    },
    {
      "cell_type": "code",
      "execution_count": 28,
      "metadata": {
        "colab": {
          "base_uri": "https://localhost:8080/"
        },
        "id": "c83NiurC0XjH",
        "outputId": "5ccac0e8-9f5d-4c33-f027-e96045532c91"
      },
      "outputs": [
        {
          "name": "stdout",
          "output_type": "stream",
          "text": [
            "<class 'pandas.core.frame.DataFrame'>\n",
            "RangeIndex: 641 entries, 0 to 640\n",
            "Data columns (total 16 columns):\n",
            " #   Column  Non-Null Count  Dtype \n",
            "---  ------  --------------  ----- \n",
            " 0   Player  641 non-null    object\n",
            " 1   TEAM    641 non-null    object\n",
            " 2   AB      641 non-null    object\n",
            " 3   H       641 non-null    object\n",
            " 4   2B      641 non-null    object\n",
            " 5   3B      641 non-null    object\n",
            " 6   HR      641 non-null    object\n",
            " 7   BB      641 non-null    object\n",
            " 8   SO      641 non-null    object\n",
            " 9   AVG     641 non-null    object\n",
            " 10  OBP     641 non-null    object\n",
            " 11  SLG     641 non-null    object\n",
            " 12  PA      641 non-null    object\n",
            " 13  HBP     641 non-null    object\n",
            " 14  SAC     641 non-null    object\n",
            " 15  SF      641 non-null    object\n",
            "dtypes: object(16)\n",
            "memory usage: 80.3+ KB\n"
          ]
        }
      ],
      "source": [
        "# Merge hitting stats against LHP and additional hitting stats against LHP dataframes\n",
        "full_LHP_hitting_stats_df = pd.merge(LHP_hitting_stats_df, LHP_pa_stats_df, how='left', on=['Player', 'TEAM'])\n",
        "\n",
        "# Get info\n",
        "full_LHP_hitting_stats_df.info()"
      ]
    },
    {
      "cell_type": "code",
      "execution_count": 29,
      "metadata": {
        "colab": {
          "base_uri": "https://localhost:8080/"
        },
        "id": "Fh6SY2tZ8981",
        "outputId": "aba63939-0a00-4f72-9d24-6d9f79bf8b0f"
      },
      "outputs": [
        {
          "name": "stdout",
          "output_type": "stream",
          "text": [
            "           Player Team AB_LHP H_LHP 2B_LHP 3B_LHP HR_LHP BB_LHP SO_LHP  \\\n",
            "0     Cal Raleigh  SEA    166    46      6      0     20     14     58   \n",
            "1  Kyle Schwarber  PHI    203    50      7      2     19     32     65   \n",
            "2     Aaron Judge  NYY    103    34      7      0     12     31     31   \n",
            "3   Shohei Ohtani  LAD    195    55      6      4     12     20     57   \n",
            "4  Eugenio Suárez  SEA    136    22      4      0     12     16     47   \n",
            "\n",
            "  AVG_LHP OBP_LHP SLG_LHP PA_LHP HBP_LHP SAC_LHP SF_LHP  \n",
            "0    .277    .337    .675    174       1       0      0  \n",
            "1    .246    .365    .581    237       5       0      0  \n",
            "2    .330    .481    .748    135       0       0      1  \n",
            "3    .282    .349    .538    206       0       0      0  \n",
            "4    .162    .255    .456     38       1       0      0  \n"
          ]
        }
      ],
      "source": [
        "# Change header names\n",
        "full_LHP_hitting_stats_df.columns = ['Player'] + ['Team'] + [col + '_LHP' if not col.endswith('LHP') else col for col in full_LHP_hitting_stats_df.columns[2:]]\n",
        "\n",
        "# Print dataframe\n",
        "print(full_LHP_hitting_stats_df.head())"
      ]
    },
    {
      "cell_type": "code",
      "execution_count": 30,
      "metadata": {
        "colab": {
          "base_uri": "https://localhost:8080/"
        },
        "id": "waRoHNqJBU9M",
        "outputId": "b08ac42b-838a-4f86-d102-c51cd20c3d21"
      },
      "outputs": [
        {
          "name": "stdout",
          "output_type": "stream",
          "text": [
            "<class 'pandas.core.frame.DataFrame'>\n",
            "RangeIndex: 641 entries, 0 to 640\n",
            "Data columns (total 16 columns):\n",
            " #   Column   Non-Null Count  Dtype  \n",
            "---  ------   --------------  -----  \n",
            " 0   Player   641 non-null    object \n",
            " 1   Team     641 non-null    object \n",
            " 2   AB_LHP   641 non-null    int64  \n",
            " 3   H_LHP    641 non-null    int64  \n",
            " 4   2B_LHP   641 non-null    int64  \n",
            " 5   3B_LHP   641 non-null    int64  \n",
            " 6   HR_LHP   641 non-null    int64  \n",
            " 7   BB_LHP   641 non-null    int64  \n",
            " 8   SO_LHP   641 non-null    int64  \n",
            " 9   AVG_LHP  641 non-null    float64\n",
            " 10  OBP_LHP  641 non-null    float64\n",
            " 11  SLG_LHP  641 non-null    float64\n",
            " 12  PA_LHP   641 non-null    int64  \n",
            " 13  HBP_LHP  641 non-null    int64  \n",
            " 14  SAC_LHP  641 non-null    int64  \n",
            " 15  SF_LHP   641 non-null    int64  \n",
            "dtypes: float64(3), int64(11), object(2)\n",
            "memory usage: 80.3+ KB\n"
          ]
        }
      ],
      "source": [
        "# Change datatypes of columns\n",
        "for col in full_LHP_hitting_stats_df.columns[2:]:\n",
        "    full_LHP_hitting_stats_df[col] = (pd.to_numeric(full_LHP_hitting_stats_df[col], errors='coerce'))\n",
        "\n",
        "# Print dataframe\n",
        "full_LHP_hitting_stats_df.info()"
      ]
    },
    {
      "cell_type": "code",
      "execution_count": 31,
      "metadata": {
        "id": "Ln-SWrrsVDB2"
      },
      "outputs": [],
      "source": [
        "# Remove accents from player names\n",
        "full_LHP_hitting_stats_df['Player'] = full_LHP_hitting_stats_df['Player'].apply(remove_accents)"
      ]
    },
    {
      "cell_type": "code",
      "execution_count": 32,
      "metadata": {
        "id": "oZpD8-0V_loE"
      },
      "outputs": [],
      "source": [
        "# Distinguish Athletics Max Muncy from Dodgers Max Muncy\n",
        "full_LHP_hitting_stats_df.loc[(full_LHP_hitting_stats_df['Player'] == 'Max Muncy') & (full_LHP_hitting_stats_df['Team'] == 'ATH'), 'Player'] = 'Max Muncy ATH'"
      ]
    },
    {
      "cell_type": "markdown",
      "metadata": {
        "id": "I34s5mIpCnm2"
      },
      "source": [
        "### Clean RHP Hitting Stats Dataframes"
      ]
    },
    {
      "cell_type": "code",
      "execution_count": 33,
      "metadata": {
        "colab": {
          "base_uri": "https://localhost:8080/"
        },
        "id": "U3ZJw47J5WBF",
        "outputId": "2f2c82f4-bcdf-4e7b-dfc8-6e06637dfca8"
      },
      "outputs": [
        {
          "name": "stdout",
          "output_type": "stream",
          "text": [
            "<class 'pandas.core.frame.DataFrame'>\n",
            "RangeIndex: 649 entries, 0 to 648\n",
            "Data columns (total 16 columns):\n",
            " #   Column  Non-Null Count  Dtype \n",
            "---  ------  --------------  ----- \n",
            " 0   Player  649 non-null    object\n",
            " 1   TEAM    649 non-null    object\n",
            " 2   AB      649 non-null    object\n",
            " 3   H       649 non-null    object\n",
            " 4   2B      649 non-null    object\n",
            " 5   3B      649 non-null    object\n",
            " 6   HR      649 non-null    object\n",
            " 7   BB      649 non-null    object\n",
            " 8   SO      649 non-null    object\n",
            " 9   AVG     649 non-null    object\n",
            " 10  OBP     649 non-null    object\n",
            " 11  SLG     649 non-null    object\n",
            " 12  PA      649 non-null    object\n",
            " 13  HBP     649 non-null    object\n",
            " 14  SAC     649 non-null    object\n",
            " 15  SF      649 non-null    object\n",
            "dtypes: object(16)\n",
            "memory usage: 81.3+ KB\n"
          ]
        }
      ],
      "source": [
        "# Merge hitting stats against LHP and additional hitting stats against LHP dataframes\n",
        "full_RHP_hitting_stats_df = pd.merge(RHP_hitting_stats_df, RHP_pa_stats_df, how='left', on=['Player', 'TEAM'])\n",
        "\n",
        "# Get info\n",
        "full_RHP_hitting_stats_df.info()"
      ]
    },
    {
      "cell_type": "code",
      "execution_count": 34,
      "metadata": {
        "colab": {
          "base_uri": "https://localhost:8080/"
        },
        "id": "DJt5JC5bCra3",
        "outputId": "badacd91-49b7-4f98-c1a5-dfbd591cac93"
      },
      "outputs": [
        {
          "name": "stdout",
          "output_type": "stream",
          "text": [
            "            Player Team AB_RHP H_RHP 2B_RHP 3B_RHP HR_RHP BB_RHP SO_RHP  \\\n",
            "0    Shohei Ohtani  LAD    346    96     14      4     36     76    107   \n",
            "1      Cal Raleigh  SEA    361    82     13      0     33     68    109   \n",
            "2   Eugenio Suárez  SEA    377   100     21      0     33     24    118   \n",
            "3      Aaron Judge  NYY    377   120     21      2     31     73    115   \n",
            "4  Junior Caminero   TB    384   103     20      0     30     22     85   \n",
            "\n",
            "  AVG_RHP OBP_RHP SLG_RHP PA_RHP HBP_RHP SAC_RHP SF_RHP  \n",
            "0    .277    .410    .653    413       3       0      2  \n",
            "1    .227    .356    .537    429       6       0      3  \n",
            "2    .265    .329    .584     86       0       0      1  \n",
            "3    .318    .431    .631    444       5       0      4  \n",
            "4    .268    .307    .555    406       1       0      4  \n"
          ]
        }
      ],
      "source": [
        "# Change header names\n",
        "full_RHP_hitting_stats_df.columns = ['Player'] + ['Team'] + [col + '_RHP' if not col.endswith('RHP') else col for col in full_RHP_hitting_stats_df.columns[2:]]\n",
        "\n",
        "# Print dataframe\n",
        "print(full_RHP_hitting_stats_df.head())"
      ]
    },
    {
      "cell_type": "code",
      "execution_count": 35,
      "metadata": {
        "colab": {
          "base_uri": "https://localhost:8080/"
        },
        "id": "hQp_BE4iCwb_",
        "outputId": "914bb663-e639-4c78-9a73-2383b2fa91d8"
      },
      "outputs": [
        {
          "name": "stdout",
          "output_type": "stream",
          "text": [
            "<class 'pandas.core.frame.DataFrame'>\n",
            "RangeIndex: 649 entries, 0 to 648\n",
            "Data columns (total 16 columns):\n",
            " #   Column   Non-Null Count  Dtype  \n",
            "---  ------   --------------  -----  \n",
            " 0   Player   649 non-null    object \n",
            " 1   Team     649 non-null    object \n",
            " 2   AB_RHP   649 non-null    int64  \n",
            " 3   H_RHP    649 non-null    int64  \n",
            " 4   2B_RHP   649 non-null    int64  \n",
            " 5   3B_RHP   649 non-null    int64  \n",
            " 6   HR_RHP   649 non-null    int64  \n",
            " 7   BB_RHP   649 non-null    int64  \n",
            " 8   SO_RHP   649 non-null    int64  \n",
            " 9   AVG_RHP  649 non-null    float64\n",
            " 10  OBP_RHP  649 non-null    float64\n",
            " 11  SLG_RHP  649 non-null    float64\n",
            " 12  PA_RHP   649 non-null    int64  \n",
            " 13  HBP_RHP  649 non-null    int64  \n",
            " 14  SAC_RHP  649 non-null    int64  \n",
            " 15  SF_RHP   649 non-null    int64  \n",
            "dtypes: float64(3), int64(11), object(2)\n",
            "memory usage: 81.3+ KB\n"
          ]
        }
      ],
      "source": [
        "# Change datatypes of columns\n",
        "for col in full_RHP_hitting_stats_df.columns[2:]:\n",
        "    full_RHP_hitting_stats_df[col] = (pd.to_numeric(full_RHP_hitting_stats_df[col], errors='coerce'))\n",
        "\n",
        "# Print dataframe\n",
        "full_RHP_hitting_stats_df.info()"
      ]
    },
    {
      "cell_type": "code",
      "execution_count": 36,
      "metadata": {
        "id": "ZTkm4wtfVRlk"
      },
      "outputs": [],
      "source": [
        "# Remove accents from player names\n",
        "full_RHP_hitting_stats_df['Player'] = full_RHP_hitting_stats_df['Player'].apply(remove_accents)"
      ]
    },
    {
      "cell_type": "code",
      "execution_count": 37,
      "metadata": {
        "id": "D7fkj6YQBxle"
      },
      "outputs": [],
      "source": [
        "# Distinguish Athletics Max Muncy from Dodgers Max Muncy\n",
        "full_RHP_hitting_stats_df.loc[(full_RHP_hitting_stats_df['Player'] == 'Max Muncy') & (full_RHP_hitting_stats_df['Team'] == 'ATH'), 'Player'] = 'Max Muncy ATH'"
      ]
    },
    {
      "cell_type": "code",
      "execution_count": 38,
      "metadata": {
        "id": "dIbAJNnRHnIy"
      },
      "outputs": [],
      "source": [
        "# Drop team column before merge\n",
        "full_RHP_hitting_stats_df.drop('Team',  axis=1, inplace=True)"
      ]
    },
    {
      "cell_type": "markdown",
      "metadata": {
        "id": "koQLcanE8zKx"
      },
      "source": [
        "### Clean Batted Ball Event Dataframe"
      ]
    },
    {
      "cell_type": "code",
      "execution_count": 39,
      "metadata": {
        "id": "2z1XK4VhO30m"
      },
      "outputs": [],
      "source": [
        "# Drop uneccesary columns\n",
        "batted_ball_event_df.drop('Rk.', axis=1, inplace=True)\n",
        "\n",
        "batted_ball_event_df.drop('Team', axis=1, inplace=True)"
      ]
    },
    {
      "cell_type": "code",
      "execution_count": 40,
      "metadata": {
        "colab": {
          "base_uri": "https://localhost:8080/",
          "height": 206
        },
        "id": "2RhqhBhN17bI",
        "outputId": "3ace7bc6-b265-42bb-8650-7eff1c97df62"
      },
      "outputs": [
        {
          "data": {
            "text/html": [
              "<div>\n",
              "<style scoped>\n",
              "    .dataframe tbody tr th:only-of-type {\n",
              "        vertical-align: middle;\n",
              "    }\n",
              "\n",
              "    .dataframe tbody tr th {\n",
              "        vertical-align: top;\n",
              "    }\n",
              "\n",
              "    .dataframe thead th {\n",
              "        text-align: right;\n",
              "    }\n",
              "</style>\n",
              "<table border=\"1\" class=\"dataframe\">\n",
              "  <thead>\n",
              "    <tr style=\"text-align: right;\">\n",
              "      <th></th>\n",
              "      <th>Player</th>\n",
              "      <th>BBE</th>\n",
              "      <th>GB%</th>\n",
              "      <th>AIR%</th>\n",
              "      <th>FB%</th>\n",
              "      <th>LD%</th>\n",
              "      <th>PU%</th>\n",
              "      <th>Pull%</th>\n",
              "      <th>Straight%</th>\n",
              "      <th>Oppo%</th>\n",
              "      <th>PullGB%</th>\n",
              "      <th>StraightGB%</th>\n",
              "      <th>OppoGB%</th>\n",
              "      <th>PullAIR%</th>\n",
              "      <th>StraightAIR%</th>\n",
              "      <th>OppoAIR%</th>\n",
              "    </tr>\n",
              "  </thead>\n",
              "  <tbody>\n",
              "    <tr>\n",
              "      <th>0</th>\n",
              "      <td>Cal Raleigh</td>\n",
              "      <td>359</td>\n",
              "      <td>25.1%</td>\n",
              "      <td>74.9%</td>\n",
              "      <td>43.2%</td>\n",
              "      <td>18.4%</td>\n",
              "      <td>13.4%</td>\n",
              "      <td>54.9%</td>\n",
              "      <td>25.1%</td>\n",
              "      <td>20.1%</td>\n",
              "      <td>15.9%</td>\n",
              "      <td>6.1%</td>\n",
              "      <td>3.1%</td>\n",
              "      <td>39.0%</td>\n",
              "      <td>18.9%</td>\n",
              "      <td>17.0%</td>\n",
              "    </tr>\n",
              "    <tr>\n",
              "      <th>1</th>\n",
              "      <td>MJ Melendez</td>\n",
              "      <td>37</td>\n",
              "      <td>32.4%</td>\n",
              "      <td>67.6%</td>\n",
              "      <td>40.5%</td>\n",
              "      <td>13.5%</td>\n",
              "      <td>13.5%</td>\n",
              "      <td>62.2%</td>\n",
              "      <td>27.0%</td>\n",
              "      <td>10.8%</td>\n",
              "      <td>24.3%</td>\n",
              "      <td>8.1%</td>\n",
              "      <td>0.0%</td>\n",
              "      <td>37.8%</td>\n",
              "      <td>18.9%</td>\n",
              "      <td>10.8%</td>\n",
              "    </tr>\n",
              "    <tr>\n",
              "      <th>2</th>\n",
              "      <td>Isaac Paredes</td>\n",
              "      <td>286</td>\n",
              "      <td>31.1%</td>\n",
              "      <td>68.9%</td>\n",
              "      <td>32.5%</td>\n",
              "      <td>25.5%</td>\n",
              "      <td>10.8%</td>\n",
              "      <td>56.3%</td>\n",
              "      <td>26.9%</td>\n",
              "      <td>16.8%</td>\n",
              "      <td>18.9%</td>\n",
              "      <td>8.0%</td>\n",
              "      <td>4.2%</td>\n",
              "      <td>37.4%</td>\n",
              "      <td>18.9%</td>\n",
              "      <td>12.6%</td>\n",
              "    </tr>\n",
              "    <tr>\n",
              "      <th>3</th>\n",
              "      <td>Davis Schneider</td>\n",
              "      <td>100</td>\n",
              "      <td>26.0%</td>\n",
              "      <td>74.0%</td>\n",
              "      <td>41.0%</td>\n",
              "      <td>17.0%</td>\n",
              "      <td>16.0%</td>\n",
              "      <td>54.0%</td>\n",
              "      <td>34.0%</td>\n",
              "      <td>12.0%</td>\n",
              "      <td>18.0%</td>\n",
              "      <td>8.0%</td>\n",
              "      <td>0.0%</td>\n",
              "      <td>36.0%</td>\n",
              "      <td>26.0%</td>\n",
              "      <td>12.0%</td>\n",
              "    </tr>\n",
              "    <tr>\n",
              "      <th>4</th>\n",
              "      <td>Rhys Hoskins</td>\n",
              "      <td>190</td>\n",
              "      <td>29.5%</td>\n",
              "      <td>70.5%</td>\n",
              "      <td>34.2%</td>\n",
              "      <td>25.8%</td>\n",
              "      <td>10.5%</td>\n",
              "      <td>52.1%</td>\n",
              "      <td>33.2%</td>\n",
              "      <td>14.7%</td>\n",
              "      <td>16.8%</td>\n",
              "      <td>10.0%</td>\n",
              "      <td>2.6%</td>\n",
              "      <td>35.3%</td>\n",
              "      <td>23.2%</td>\n",
              "      <td>12.1%</td>\n",
              "    </tr>\n",
              "  </tbody>\n",
              "</table>\n",
              "</div>"
            ],
            "text/plain": [
              "            Player  BBE    GB%   AIR%    FB%    LD%    PU%  Pull% Straight%  \\\n",
              "0      Cal Raleigh  359  25.1%  74.9%  43.2%  18.4%  13.4%  54.9%     25.1%   \n",
              "1      MJ Melendez   37  32.4%  67.6%  40.5%  13.5%  13.5%  62.2%     27.0%   \n",
              "2    Isaac Paredes  286  31.1%  68.9%  32.5%  25.5%  10.8%  56.3%     26.9%   \n",
              "3  Davis Schneider  100  26.0%  74.0%  41.0%  17.0%  16.0%  54.0%     34.0%   \n",
              "4     Rhys Hoskins  190  29.5%  70.5%  34.2%  25.8%  10.5%  52.1%     33.2%   \n",
              "\n",
              "   Oppo% PullGB% StraightGB% OppoGB% PullAIR% StraightAIR% OppoAIR%  \n",
              "0  20.1%   15.9%        6.1%    3.1%    39.0%        18.9%    17.0%  \n",
              "1  10.8%   24.3%        8.1%    0.0%    37.8%        18.9%    10.8%  \n",
              "2  16.8%   18.9%        8.0%    4.2%    37.4%        18.9%    12.6%  \n",
              "3  12.0%   18.0%        8.0%    0.0%    36.0%        26.0%    12.0%  \n",
              "4  14.7%   16.8%       10.0%    2.6%    35.3%        23.2%    12.1%  "
            ]
          },
          "execution_count": 40,
          "metadata": {},
          "output_type": "execute_result"
        }
      ],
      "source": [
        "# Change format of 'Player' column\n",
        "batted_ball_event_df['Player'] = batted_ball_event_df['Player'].apply(lambda x: x.split(', ')[1] + ' ' + x.split(', ')[0] if ', ' in x else x)\n",
        "\n",
        "# Print dataframe\n",
        "batted_ball_event_df.head()"
      ]
    },
    {
      "cell_type": "code",
      "execution_count": 41,
      "metadata": {
        "id": "pApQQEgMVfQZ"
      },
      "outputs": [],
      "source": [
        "# Remove accents from player names\n",
        "batted_ball_event_df['Player'] = batted_ball_event_df['Player'].apply(remove_accents)"
      ]
    },
    {
      "cell_type": "code",
      "execution_count": 42,
      "metadata": {
        "colab": {
          "base_uri": "https://localhost:8080/",
          "height": 206
        },
        "id": "m78kUcsKtPe6",
        "outputId": "8fba1b89-5ef0-41e4-dcfa-cf35dea208e5"
      },
      "outputs": [
        {
          "data": {
            "text/html": [
              "<div>\n",
              "<style scoped>\n",
              "    .dataframe tbody tr th:only-of-type {\n",
              "        vertical-align: middle;\n",
              "    }\n",
              "\n",
              "    .dataframe tbody tr th {\n",
              "        vertical-align: top;\n",
              "    }\n",
              "\n",
              "    .dataframe thead th {\n",
              "        text-align: right;\n",
              "    }\n",
              "</style>\n",
              "<table border=\"1\" class=\"dataframe\">\n",
              "  <thead>\n",
              "    <tr style=\"text-align: right;\">\n",
              "      <th></th>\n",
              "      <th>Player</th>\n",
              "      <th>BBE</th>\n",
              "      <th>GB%</th>\n",
              "      <th>AIR%</th>\n",
              "      <th>FB%</th>\n",
              "      <th>LD%</th>\n",
              "      <th>PU%</th>\n",
              "      <th>Pull%</th>\n",
              "      <th>Straight%</th>\n",
              "      <th>Oppo%</th>\n",
              "      <th>PullGB%</th>\n",
              "      <th>StraightGB%</th>\n",
              "      <th>OppoGB%</th>\n",
              "      <th>PullAIR%</th>\n",
              "      <th>StraightAIR%</th>\n",
              "      <th>OppoAIR%</th>\n",
              "    </tr>\n",
              "  </thead>\n",
              "  <tbody>\n",
              "    <tr>\n",
              "      <th>0</th>\n",
              "      <td>Cal Raleigh</td>\n",
              "      <td>359</td>\n",
              "      <td>0.251</td>\n",
              "      <td>0.749</td>\n",
              "      <td>0.432</td>\n",
              "      <td>0.184</td>\n",
              "      <td>0.134</td>\n",
              "      <td>0.549</td>\n",
              "      <td>0.251</td>\n",
              "      <td>0.201</td>\n",
              "      <td>0.159</td>\n",
              "      <td>0.061</td>\n",
              "      <td>0.031</td>\n",
              "      <td>0.390</td>\n",
              "      <td>0.189</td>\n",
              "      <td>0.170</td>\n",
              "    </tr>\n",
              "    <tr>\n",
              "      <th>1</th>\n",
              "      <td>MJ Melendez</td>\n",
              "      <td>37</td>\n",
              "      <td>0.324</td>\n",
              "      <td>0.676</td>\n",
              "      <td>0.405</td>\n",
              "      <td>0.135</td>\n",
              "      <td>0.135</td>\n",
              "      <td>0.622</td>\n",
              "      <td>0.270</td>\n",
              "      <td>0.108</td>\n",
              "      <td>0.243</td>\n",
              "      <td>0.081</td>\n",
              "      <td>0.000</td>\n",
              "      <td>0.378</td>\n",
              "      <td>0.189</td>\n",
              "      <td>0.108</td>\n",
              "    </tr>\n",
              "    <tr>\n",
              "      <th>2</th>\n",
              "      <td>Isaac Paredes</td>\n",
              "      <td>286</td>\n",
              "      <td>0.311</td>\n",
              "      <td>0.689</td>\n",
              "      <td>0.325</td>\n",
              "      <td>0.255</td>\n",
              "      <td>0.108</td>\n",
              "      <td>0.563</td>\n",
              "      <td>0.269</td>\n",
              "      <td>0.168</td>\n",
              "      <td>0.189</td>\n",
              "      <td>0.080</td>\n",
              "      <td>0.042</td>\n",
              "      <td>0.374</td>\n",
              "      <td>0.189</td>\n",
              "      <td>0.126</td>\n",
              "    </tr>\n",
              "    <tr>\n",
              "      <th>3</th>\n",
              "      <td>Davis Schneider</td>\n",
              "      <td>100</td>\n",
              "      <td>0.260</td>\n",
              "      <td>0.740</td>\n",
              "      <td>0.410</td>\n",
              "      <td>0.170</td>\n",
              "      <td>0.160</td>\n",
              "      <td>0.540</td>\n",
              "      <td>0.340</td>\n",
              "      <td>0.120</td>\n",
              "      <td>0.180</td>\n",
              "      <td>0.080</td>\n",
              "      <td>0.000</td>\n",
              "      <td>0.360</td>\n",
              "      <td>0.260</td>\n",
              "      <td>0.120</td>\n",
              "    </tr>\n",
              "    <tr>\n",
              "      <th>4</th>\n",
              "      <td>Rhys Hoskins</td>\n",
              "      <td>190</td>\n",
              "      <td>0.295</td>\n",
              "      <td>0.705</td>\n",
              "      <td>0.342</td>\n",
              "      <td>0.258</td>\n",
              "      <td>0.105</td>\n",
              "      <td>0.521</td>\n",
              "      <td>0.332</td>\n",
              "      <td>0.147</td>\n",
              "      <td>0.168</td>\n",
              "      <td>0.100</td>\n",
              "      <td>0.026</td>\n",
              "      <td>0.353</td>\n",
              "      <td>0.232</td>\n",
              "      <td>0.121</td>\n",
              "    </tr>\n",
              "  </tbody>\n",
              "</table>\n",
              "</div>"
            ],
            "text/plain": [
              "            Player  BBE    GB%   AIR%    FB%    LD%    PU%  Pull%  Straight%  \\\n",
              "0      Cal Raleigh  359  0.251  0.749  0.432  0.184  0.134  0.549      0.251   \n",
              "1      MJ Melendez   37  0.324  0.676  0.405  0.135  0.135  0.622      0.270   \n",
              "2    Isaac Paredes  286  0.311  0.689  0.325  0.255  0.108  0.563      0.269   \n",
              "3  Davis Schneider  100  0.260  0.740  0.410  0.170  0.160  0.540      0.340   \n",
              "4     Rhys Hoskins  190  0.295  0.705  0.342  0.258  0.105  0.521      0.332   \n",
              "\n",
              "   Oppo%  PullGB%  StraightGB%  OppoGB%  PullAIR%  StraightAIR%  OppoAIR%  \n",
              "0  0.201    0.159        0.061    0.031     0.390         0.189     0.170  \n",
              "1  0.108    0.243        0.081    0.000     0.378         0.189     0.108  \n",
              "2  0.168    0.189        0.080    0.042     0.374         0.189     0.126  \n",
              "3  0.120    0.180        0.080    0.000     0.360         0.260     0.120  \n",
              "4  0.147    0.168        0.100    0.026     0.353         0.232     0.121  "
            ]
          },
          "execution_count": 42,
          "metadata": {},
          "output_type": "execute_result"
        }
      ],
      "source": [
        "# Change format of columns containing percent symbols\n",
        "for col in batted_ball_event_df.columns:\n",
        "    if batted_ball_event_df[col].dtype == 'object' and batted_ball_event_df[col].str.contains('%').any():\n",
        "        batted_ball_event_df[col] = (pd.to_numeric(batted_ball_event_df[col].str.replace('%', '', regex=False), errors='coerce') / 100).round(3)\n",
        "\n",
        "# Print dataframe\n",
        "batted_ball_event_df.head()"
      ]
    },
    {
      "cell_type": "code",
      "execution_count": 43,
      "metadata": {
        "id": "0oXOwnlD27MD"
      },
      "outputs": [],
      "source": [
        "# Make BBE int data type\n",
        "batted_ball_event_df['BBE'] = pd.to_numeric(batted_ball_event_df['BBE'], errors='coerce').fillna(0).astype(int)"
      ]
    },
    {
      "cell_type": "code",
      "execution_count": 44,
      "metadata": {
        "id": "7B2zH7QSCJzZ"
      },
      "outputs": [],
      "source": [
        "# Distinguish Athletics Max Muncy from Dodgers Max Muncy\n",
        "muncy_rows = batted_ball_event_df.loc[batted_ball_event_df['Player'] == 'Max Muncy']\n",
        "\n",
        "if len(muncy_rows) >= 2:\n",
        "    # Find index of row with lower 'PullAir%'\n",
        "    lower_index = muncy_rows['PullAIR%'].idxmin()\n",
        "\n",
        "    # Rename that row to 'Max MuncyA'\n",
        "    batted_ball_event_df.loc[lower_index, 'Player'] = 'Max Muncy ATH'"
      ]
    },
    {
      "cell_type": "markdown",
      "metadata": {
        "id": "Pp-NPLXl95jw"
      },
      "source": [
        "### Merge Dataframes"
      ]
    },
    {
      "cell_type": "code",
      "execution_count": 45,
      "metadata": {
        "colab": {
          "base_uri": "https://localhost:8080/"
        },
        "id": "FR-DX8KXrXab",
        "outputId": "25161922-3c20-4b72-d2fb-3d04aebc6b2b"
      },
      "outputs": [
        {
          "name": "stdout",
          "output_type": "stream",
          "text": [
            "<class 'pandas.core.frame.DataFrame'>\n",
            "RangeIndex: 511 entries, 0 to 510\n",
            "Data columns (total 45 columns):\n",
            " #   Column        Non-Null Count  Dtype  \n",
            "---  ------        --------------  -----  \n",
            " 0   Player        511 non-null    object \n",
            " 1   BBE           511 non-null    int32  \n",
            " 2   GB%           511 non-null    float64\n",
            " 3   AIR%          511 non-null    float64\n",
            " 4   FB%           511 non-null    float64\n",
            " 5   LD%           511 non-null    float64\n",
            " 6   PU%           511 non-null    float64\n",
            " 7   Pull%         511 non-null    float64\n",
            " 8   Straight%     511 non-null    float64\n",
            " 9   Oppo%         511 non-null    float64\n",
            " 10  PullGB%       511 non-null    float64\n",
            " 11  StraightGB%   511 non-null    float64\n",
            " 12  OppoGB%       511 non-null    float64\n",
            " 13  PullAIR%      511 non-null    float64\n",
            " 14  StraightAIR%  511 non-null    float64\n",
            " 15  OppoAIR%      511 non-null    float64\n",
            " 16  Team          511 non-null    object \n",
            " 17  AB_LHP        511 non-null    int64  \n",
            " 18  H_LHP         511 non-null    int64  \n",
            " 19  2B_LHP        511 non-null    int64  \n",
            " 20  3B_LHP        511 non-null    int64  \n",
            " 21  HR_LHP        511 non-null    int64  \n",
            " 22  BB_LHP        511 non-null    int64  \n",
            " 23  SO_LHP        511 non-null    int64  \n",
            " 24  AVG_LHP       511 non-null    float64\n",
            " 25  OBP_LHP       511 non-null    float64\n",
            " 26  SLG_LHP       511 non-null    float64\n",
            " 27  PA_LHP        511 non-null    int64  \n",
            " 28  HBP_LHP       511 non-null    int64  \n",
            " 29  SAC_LHP       511 non-null    int64  \n",
            " 30  SF_LHP        511 non-null    int64  \n",
            " 31  AB_RHP        504 non-null    float64\n",
            " 32  H_RHP         504 non-null    float64\n",
            " 33  2B_RHP        504 non-null    float64\n",
            " 34  3B_RHP        504 non-null    float64\n",
            " 35  HR_RHP        504 non-null    float64\n",
            " 36  BB_RHP        504 non-null    float64\n",
            " 37  SO_RHP        504 non-null    float64\n",
            " 38  AVG_RHP       504 non-null    float64\n",
            " 39  OBP_RHP       504 non-null    float64\n",
            " 40  SLG_RHP       504 non-null    float64\n",
            " 41  PA_RHP        504 non-null    float64\n",
            " 42  HBP_RHP       504 non-null    float64\n",
            " 43  SAC_RHP       504 non-null    float64\n",
            " 44  SF_RHP        504 non-null    float64\n",
            "dtypes: float64(31), int32(1), int64(11), object(2)\n",
            "memory usage: 177.8+ KB\n"
          ]
        }
      ],
      "source": [
        "# Left merge dataframes on 'Player' column\n",
        "master_hitting_stats_df = batted_ball_event_df.merge(full_LHP_hitting_stats_df, how='left', on='Player').merge(full_RHP_hitting_stats_df, how='left', on='Player')\n",
        "\n",
        "# Print dataframe sample\n",
        "master_hitting_stats_df.info()"
      ]
    },
    {
      "cell_type": "markdown",
      "metadata": {
        "id": "B6lVqicYap39"
      },
      "source": [
        "### Clean Merged Dataframe"
      ]
    },
    {
      "cell_type": "code",
      "execution_count": null,
      "metadata": {
        "collapsed": true,
        "id": "GgzBvEMpyKu4"
      },
      "outputs": [],
      "source": [
        "# # Replace NaN with column average for columns with percent symbol\n",
        "# for col in master_hitting_stats_df.columns:\n",
        "#     if col.endswith(\"%\"):\n",
        "#         master_hitting_stats_df[col] = master_hitting_stats_df[col].fillna(master_hitting_stats_df[col].mean().round(3))\n",
        "\n",
        "# # Print dataframe sample\n",
        "# master_hitting_stats_df.info()"
      ]
    },
    {
      "cell_type": "code",
      "execution_count": 46,
      "metadata": {
        "colab": {
          "base_uri": "https://localhost:8080/"
        },
        "collapsed": true,
        "id": "TKaPq9Itt69b",
        "outputId": "d774fb2f-6f66-439e-a800-1a9fd1d3b244"
      },
      "outputs": [
        {
          "name": "stdout",
          "output_type": "stream",
          "text": [
            "<class 'pandas.core.frame.DataFrame'>\n",
            "RangeIndex: 511 entries, 0 to 510\n",
            "Data columns (total 45 columns):\n",
            " #   Column        Non-Null Count  Dtype  \n",
            "---  ------        --------------  -----  \n",
            " 0   Player        511 non-null    object \n",
            " 1   BBE           511 non-null    int32  \n",
            " 2   GB%           511 non-null    float64\n",
            " 3   AIR%          511 non-null    float64\n",
            " 4   FB%           511 non-null    float64\n",
            " 5   LD%           511 non-null    float64\n",
            " 6   PU%           511 non-null    float64\n",
            " 7   Pull%         511 non-null    float64\n",
            " 8   Straight%     511 non-null    float64\n",
            " 9   Oppo%         511 non-null    float64\n",
            " 10  PullGB%       511 non-null    float64\n",
            " 11  StraightGB%   511 non-null    float64\n",
            " 12  OppoGB%       511 non-null    float64\n",
            " 13  PullAIR%      511 non-null    float64\n",
            " 14  StraightAIR%  511 non-null    float64\n",
            " 15  OppoAIR%      511 non-null    float64\n",
            " 16  Team          511 non-null    object \n",
            " 17  AB_LHP        511 non-null    int64  \n",
            " 18  H_LHP         511 non-null    int64  \n",
            " 19  2B_LHP        511 non-null    int64  \n",
            " 20  3B_LHP        511 non-null    int64  \n",
            " 21  HR_LHP        511 non-null    int64  \n",
            " 22  BB_LHP        511 non-null    int64  \n",
            " 23  SO_LHP        511 non-null    int64  \n",
            " 24  AVG_LHP       511 non-null    float64\n",
            " 25  OBP_LHP       511 non-null    float64\n",
            " 26  SLG_LHP       511 non-null    float64\n",
            " 27  PA_LHP        511 non-null    int64  \n",
            " 28  HBP_LHP       511 non-null    int64  \n",
            " 29  SAC_LHP       511 non-null    int64  \n",
            " 30  SF_LHP        511 non-null    int64  \n",
            " 31  AB_RHP        511 non-null    float64\n",
            " 32  H_RHP         511 non-null    float64\n",
            " 33  2B_RHP        511 non-null    float64\n",
            " 34  3B_RHP        511 non-null    float64\n",
            " 35  HR_RHP        511 non-null    float64\n",
            " 36  BB_RHP        511 non-null    float64\n",
            " 37  SO_RHP        511 non-null    float64\n",
            " 38  AVG_RHP       511 non-null    float64\n",
            " 39  OBP_RHP       511 non-null    float64\n",
            " 40  SLG_RHP       511 non-null    float64\n",
            " 41  PA_RHP        511 non-null    float64\n",
            " 42  HBP_RHP       511 non-null    float64\n",
            " 43  SAC_RHP       511 non-null    float64\n",
            " 44  SF_RHP        511 non-null    float64\n",
            "dtypes: float64(31), int32(1), int64(11), object(2)\n",
            "memory usage: 177.8+ KB\n"
          ]
        }
      ],
      "source": [
        "# Replace remaining NaN with 0\n",
        "for col in master_hitting_stats_df.columns:\n",
        "      master_hitting_stats_df[col] = master_hitting_stats_df[col].fillna(0)\n",
        "\n",
        "master_hitting_stats_df.info()"
      ]
    },
    {
      "cell_type": "code",
      "execution_count": 47,
      "metadata": {
        "colab": {
          "base_uri": "https://localhost:8080/",
          "height": 236
        },
        "id": "RsKUFQkLgrG-",
        "outputId": "99439b02-5aa0-40a0-b07d-b1bc9a25f01f"
      },
      "outputs": [
        {
          "data": {
            "text/html": [
              "<div>\n",
              "<style scoped>\n",
              "    .dataframe tbody tr th:only-of-type {\n",
              "        vertical-align: middle;\n",
              "    }\n",
              "\n",
              "    .dataframe tbody tr th {\n",
              "        vertical-align: top;\n",
              "    }\n",
              "\n",
              "    .dataframe thead th {\n",
              "        text-align: right;\n",
              "    }\n",
              "</style>\n",
              "<table border=\"1\" class=\"dataframe\">\n",
              "  <thead>\n",
              "    <tr style=\"text-align: right;\">\n",
              "      <th></th>\n",
              "      <th>Player</th>\n",
              "      <th>BBE</th>\n",
              "      <th>GB%</th>\n",
              "      <th>AIR%</th>\n",
              "      <th>FB%</th>\n",
              "      <th>LD%</th>\n",
              "      <th>PU%</th>\n",
              "      <th>Pull%</th>\n",
              "      <th>Straight%</th>\n",
              "      <th>Oppo%</th>\n",
              "      <th>...</th>\n",
              "      <th>HR_RHP</th>\n",
              "      <th>BB_RHP</th>\n",
              "      <th>SO_RHP</th>\n",
              "      <th>AVG_RHP</th>\n",
              "      <th>OBP_RHP</th>\n",
              "      <th>SLG_RHP</th>\n",
              "      <th>PA_RHP</th>\n",
              "      <th>HBP_RHP</th>\n",
              "      <th>SAC_RHP</th>\n",
              "      <th>SF_RHP</th>\n",
              "    </tr>\n",
              "  </thead>\n",
              "  <tbody>\n",
              "    <tr>\n",
              "      <th>0</th>\n",
              "      <td>Cal Raleigh</td>\n",
              "      <td>359</td>\n",
              "      <td>0.251</td>\n",
              "      <td>0.749</td>\n",
              "      <td>0.432</td>\n",
              "      <td>0.184</td>\n",
              "      <td>0.134</td>\n",
              "      <td>0.549</td>\n",
              "      <td>0.251</td>\n",
              "      <td>0.201</td>\n",
              "      <td>...</td>\n",
              "      <td>33.0</td>\n",
              "      <td>68.0</td>\n",
              "      <td>109.0</td>\n",
              "      <td>0.227</td>\n",
              "      <td>0.356</td>\n",
              "      <td>0.537</td>\n",
              "      <td>429.0</td>\n",
              "      <td>6.0</td>\n",
              "      <td>0.0</td>\n",
              "      <td>3.0</td>\n",
              "    </tr>\n",
              "    <tr>\n",
              "      <th>1</th>\n",
              "      <td>MJ Melendez</td>\n",
              "      <td>37</td>\n",
              "      <td>0.324</td>\n",
              "      <td>0.676</td>\n",
              "      <td>0.405</td>\n",
              "      <td>0.135</td>\n",
              "      <td>0.135</td>\n",
              "      <td>0.622</td>\n",
              "      <td>0.270</td>\n",
              "      <td>0.108</td>\n",
              "      <td>...</td>\n",
              "      <td>0.0</td>\n",
              "      <td>2.0</td>\n",
              "      <td>20.0</td>\n",
              "      <td>0.077</td>\n",
              "      <td>0.111</td>\n",
              "      <td>0.115</td>\n",
              "      <td>54.0</td>\n",
              "      <td>0.0</td>\n",
              "      <td>0.0</td>\n",
              "      <td>0.0</td>\n",
              "    </tr>\n",
              "    <tr>\n",
              "      <th>2</th>\n",
              "      <td>Isaac Paredes</td>\n",
              "      <td>286</td>\n",
              "      <td>0.311</td>\n",
              "      <td>0.689</td>\n",
              "      <td>0.325</td>\n",
              "      <td>0.255</td>\n",
              "      <td>0.108</td>\n",
              "      <td>0.563</td>\n",
              "      <td>0.269</td>\n",
              "      <td>0.168</td>\n",
              "      <td>...</td>\n",
              "      <td>16.0</td>\n",
              "      <td>40.0</td>\n",
              "      <td>58.0</td>\n",
              "      <td>0.269</td>\n",
              "      <td>0.364</td>\n",
              "      <td>0.486</td>\n",
              "      <td>341.0</td>\n",
              "      <td>5.0</td>\n",
              "      <td>0.0</td>\n",
              "      <td>2.0</td>\n",
              "    </tr>\n",
              "    <tr>\n",
              "      <th>3</th>\n",
              "      <td>Davis Schneider</td>\n",
              "      <td>100</td>\n",
              "      <td>0.260</td>\n",
              "      <td>0.740</td>\n",
              "      <td>0.410</td>\n",
              "      <td>0.170</td>\n",
              "      <td>0.160</td>\n",
              "      <td>0.540</td>\n",
              "      <td>0.340</td>\n",
              "      <td>0.120</td>\n",
              "      <td>...</td>\n",
              "      <td>6.0</td>\n",
              "      <td>9.0</td>\n",
              "      <td>19.0</td>\n",
              "      <td>0.238</td>\n",
              "      <td>0.333</td>\n",
              "      <td>0.540</td>\n",
              "      <td>72.0</td>\n",
              "      <td>0.0</td>\n",
              "      <td>0.0</td>\n",
              "      <td>0.0</td>\n",
              "    </tr>\n",
              "    <tr>\n",
              "      <th>4</th>\n",
              "      <td>Rhys Hoskins</td>\n",
              "      <td>190</td>\n",
              "      <td>0.295</td>\n",
              "      <td>0.705</td>\n",
              "      <td>0.342</td>\n",
              "      <td>0.258</td>\n",
              "      <td>0.105</td>\n",
              "      <td>0.521</td>\n",
              "      <td>0.332</td>\n",
              "      <td>0.147</td>\n",
              "      <td>...</td>\n",
              "      <td>8.0</td>\n",
              "      <td>24.0</td>\n",
              "      <td>61.0</td>\n",
              "      <td>0.245</td>\n",
              "      <td>0.339</td>\n",
              "      <td>0.426</td>\n",
              "      <td>221.0</td>\n",
              "      <td>5.0</td>\n",
              "      <td>0.0</td>\n",
              "      <td>4.0</td>\n",
              "    </tr>\n",
              "  </tbody>\n",
              "</table>\n",
              "<p>5 rows × 45 columns</p>\n",
              "</div>"
            ],
            "text/plain": [
              "            Player  BBE    GB%   AIR%    FB%    LD%    PU%  Pull%  Straight%  \\\n",
              "0      Cal Raleigh  359  0.251  0.749  0.432  0.184  0.134  0.549      0.251   \n",
              "1      MJ Melendez   37  0.324  0.676  0.405  0.135  0.135  0.622      0.270   \n",
              "2    Isaac Paredes  286  0.311  0.689  0.325  0.255  0.108  0.563      0.269   \n",
              "3  Davis Schneider  100  0.260  0.740  0.410  0.170  0.160  0.540      0.340   \n",
              "4     Rhys Hoskins  190  0.295  0.705  0.342  0.258  0.105  0.521      0.332   \n",
              "\n",
              "   Oppo%  ...  HR_RHP  BB_RHP  SO_RHP  AVG_RHP  OBP_RHP  SLG_RHP PA_RHP  \\\n",
              "0  0.201  ...    33.0    68.0   109.0    0.227    0.356    0.537  429.0   \n",
              "1  0.108  ...     0.0     2.0    20.0    0.077    0.111    0.115   54.0   \n",
              "2  0.168  ...    16.0    40.0    58.0    0.269    0.364    0.486  341.0   \n",
              "3  0.120  ...     6.0     9.0    19.0    0.238    0.333    0.540   72.0   \n",
              "4  0.147  ...     8.0    24.0    61.0    0.245    0.339    0.426  221.0   \n",
              "\n",
              "   HBP_RHP  SAC_RHP  SF_RHP  \n",
              "0      6.0      0.0     3.0  \n",
              "1      0.0      0.0     0.0  \n",
              "2      5.0      0.0     2.0  \n",
              "3      0.0      0.0     0.0  \n",
              "4      5.0      0.0     4.0  \n",
              "\n",
              "[5 rows x 45 columns]"
            ]
          },
          "execution_count": 47,
          "metadata": {},
          "output_type": "execute_result"
        }
      ],
      "source": [
        "# Print dataframe\n",
        "master_hitting_stats_df.head()"
      ]
    },
    {
      "cell_type": "markdown",
      "metadata": {
        "id": "srEcQZPx_5_E"
      },
      "source": [
        "## Download Master Hitting Stats Table as csv"
      ]
    },
    {
      "cell_type": "code",
      "execution_count": null,
      "metadata": {
        "id": "439eguIQ_5vI"
      },
      "outputs": [],
      "source": [
        "# Download dataframe as a csv (so I don't have to scrape all the data everytime)\n",
        "master_hitting_stats_df.to_csv('C:\\\\Users\\\\jftho\\\\OneDrive\\\\Documents\\\\Personal Data Analytics\\\\Baseball Simulator\\\\mlb_hitting_stats.csv', index=False)"
      ]
    },
    {
      "cell_type": "code",
      "execution_count": null,
      "metadata": {
        "colab": {
          "base_uri": "https://localhost:8080/",
          "height": 290
        },
        "collapsed": true,
        "id": "-ZUcAwIF5xoT",
        "outputId": "5382a545-7c92-4b49-93a2-f184ef3d9952"
      },
      "outputs": [
        {
          "data": {
            "text/html": [
              "<div>\n",
              "<style scoped>\n",
              "    .dataframe tbody tr th:only-of-type {\n",
              "        vertical-align: middle;\n",
              "    }\n",
              "\n",
              "    .dataframe tbody tr th {\n",
              "        vertical-align: top;\n",
              "    }\n",
              "\n",
              "    .dataframe thead th {\n",
              "        text-align: right;\n",
              "    }\n",
              "</style>\n",
              "<table border=\"1\" class=\"dataframe\">\n",
              "  <thead>\n",
              "    <tr style=\"text-align: right;\">\n",
              "      <th></th>\n",
              "      <th>Player</th>\n",
              "      <th>BBE</th>\n",
              "      <th>GB%</th>\n",
              "      <th>AIR%</th>\n",
              "      <th>FB%</th>\n",
              "      <th>LD%</th>\n",
              "      <th>PU%</th>\n",
              "      <th>Pull%</th>\n",
              "      <th>Straight%</th>\n",
              "      <th>Oppo%</th>\n",
              "      <th>...</th>\n",
              "      <th>HR_RHP</th>\n",
              "      <th>BB_RHP</th>\n",
              "      <th>SO_RHP</th>\n",
              "      <th>AVG_RHP</th>\n",
              "      <th>OBP_RHP</th>\n",
              "      <th>SLG_RHP</th>\n",
              "      <th>PA_RHP</th>\n",
              "      <th>HBP_RHP</th>\n",
              "      <th>SAC_RHP</th>\n",
              "      <th>SF_RHP</th>\n",
              "    </tr>\n",
              "  </thead>\n",
              "  <tbody>\n",
              "    <tr>\n",
              "      <th>0</th>\n",
              "      <td>Cal Raleigh</td>\n",
              "      <td>359</td>\n",
              "      <td>0.251</td>\n",
              "      <td>0.749</td>\n",
              "      <td>0.432</td>\n",
              "      <td>0.184</td>\n",
              "      <td>0.134</td>\n",
              "      <td>0.549</td>\n",
              "      <td>0.251</td>\n",
              "      <td>0.201</td>\n",
              "      <td>...</td>\n",
              "      <td>33.0</td>\n",
              "      <td>68.0</td>\n",
              "      <td>109.0</td>\n",
              "      <td>0.227</td>\n",
              "      <td>0.356</td>\n",
              "      <td>0.537</td>\n",
              "      <td>429.0</td>\n",
              "      <td>6.0</td>\n",
              "      <td>0.0</td>\n",
              "      <td>3.0</td>\n",
              "    </tr>\n",
              "    <tr>\n",
              "      <th>1</th>\n",
              "      <td>MJ Melendez</td>\n",
              "      <td>37</td>\n",
              "      <td>0.324</td>\n",
              "      <td>0.676</td>\n",
              "      <td>0.405</td>\n",
              "      <td>0.135</td>\n",
              "      <td>0.135</td>\n",
              "      <td>0.622</td>\n",
              "      <td>0.270</td>\n",
              "      <td>0.108</td>\n",
              "      <td>...</td>\n",
              "      <td>0.0</td>\n",
              "      <td>2.0</td>\n",
              "      <td>20.0</td>\n",
              "      <td>0.077</td>\n",
              "      <td>0.111</td>\n",
              "      <td>0.115</td>\n",
              "      <td>54.0</td>\n",
              "      <td>0.0</td>\n",
              "      <td>0.0</td>\n",
              "      <td>0.0</td>\n",
              "    </tr>\n",
              "    <tr>\n",
              "      <th>2</th>\n",
              "      <td>Isaac Paredes</td>\n",
              "      <td>286</td>\n",
              "      <td>0.311</td>\n",
              "      <td>0.689</td>\n",
              "      <td>0.325</td>\n",
              "      <td>0.255</td>\n",
              "      <td>0.108</td>\n",
              "      <td>0.563</td>\n",
              "      <td>0.269</td>\n",
              "      <td>0.168</td>\n",
              "      <td>...</td>\n",
              "      <td>16.0</td>\n",
              "      <td>40.0</td>\n",
              "      <td>58.0</td>\n",
              "      <td>0.269</td>\n",
              "      <td>0.364</td>\n",
              "      <td>0.486</td>\n",
              "      <td>341.0</td>\n",
              "      <td>5.0</td>\n",
              "      <td>0.0</td>\n",
              "      <td>2.0</td>\n",
              "    </tr>\n",
              "    <tr>\n",
              "      <th>3</th>\n",
              "      <td>Davis Schneider</td>\n",
              "      <td>100</td>\n",
              "      <td>0.260</td>\n",
              "      <td>0.740</td>\n",
              "      <td>0.410</td>\n",
              "      <td>0.170</td>\n",
              "      <td>0.160</td>\n",
              "      <td>0.540</td>\n",
              "      <td>0.340</td>\n",
              "      <td>0.120</td>\n",
              "      <td>...</td>\n",
              "      <td>6.0</td>\n",
              "      <td>9.0</td>\n",
              "      <td>19.0</td>\n",
              "      <td>0.238</td>\n",
              "      <td>0.333</td>\n",
              "      <td>0.540</td>\n",
              "      <td>72.0</td>\n",
              "      <td>0.0</td>\n",
              "      <td>0.0</td>\n",
              "      <td>0.0</td>\n",
              "    </tr>\n",
              "    <tr>\n",
              "      <th>4</th>\n",
              "      <td>Rhys Hoskins</td>\n",
              "      <td>190</td>\n",
              "      <td>0.295</td>\n",
              "      <td>0.705</td>\n",
              "      <td>0.342</td>\n",
              "      <td>0.258</td>\n",
              "      <td>0.105</td>\n",
              "      <td>0.521</td>\n",
              "      <td>0.332</td>\n",
              "      <td>0.147</td>\n",
              "      <td>...</td>\n",
              "      <td>8.0</td>\n",
              "      <td>24.0</td>\n",
              "      <td>61.0</td>\n",
              "      <td>0.245</td>\n",
              "      <td>0.339</td>\n",
              "      <td>0.426</td>\n",
              "      <td>221.0</td>\n",
              "      <td>5.0</td>\n",
              "      <td>0.0</td>\n",
              "      <td>4.0</td>\n",
              "    </tr>\n",
              "  </tbody>\n",
              "</table>\n",
              "<p>5 rows × 45 columns</p>\n",
              "</div>"
            ],
            "text/plain": [
              "            Player  BBE    GB%   AIR%    FB%    LD%    PU%  Pull%  Straight%  \\\n",
              "0      Cal Raleigh  359  0.251  0.749  0.432  0.184  0.134  0.549      0.251   \n",
              "1      MJ Melendez   37  0.324  0.676  0.405  0.135  0.135  0.622      0.270   \n",
              "2    Isaac Paredes  286  0.311  0.689  0.325  0.255  0.108  0.563      0.269   \n",
              "3  Davis Schneider  100  0.260  0.740  0.410  0.170  0.160  0.540      0.340   \n",
              "4     Rhys Hoskins  190  0.295  0.705  0.342  0.258  0.105  0.521      0.332   \n",
              "\n",
              "   Oppo%  ...  HR_RHP  BB_RHP  SO_RHP  AVG_RHP  OBP_RHP  SLG_RHP PA_RHP  \\\n",
              "0  0.201  ...    33.0    68.0   109.0    0.227    0.356    0.537  429.0   \n",
              "1  0.108  ...     0.0     2.0    20.0    0.077    0.111    0.115   54.0   \n",
              "2  0.168  ...    16.0    40.0    58.0    0.269    0.364    0.486  341.0   \n",
              "3  0.120  ...     6.0     9.0    19.0    0.238    0.333    0.540   72.0   \n",
              "4  0.147  ...     8.0    24.0    61.0    0.245    0.339    0.426  221.0   \n",
              "\n",
              "   HBP_RHP  SAC_RHP  SF_RHP  \n",
              "0      6.0      0.0     3.0  \n",
              "1      0.0      0.0     0.0  \n",
              "2      5.0      0.0     2.0  \n",
              "3      0.0      0.0     0.0  \n",
              "4      5.0      0.0     4.0  \n",
              "\n",
              "[5 rows x 45 columns]"
            ]
          },
          "execution_count": 49,
          "metadata": {},
          "output_type": "execute_result"
        }
      ],
      "source": [
        "# Import csv file to use\n",
        "master_hitting_stats_df = pd.read_csv('C:\\\\Users\\\\jftho\\\\OneDrive\\\\Documents\\\\Personal Data Analytics\\\\Baseball Simulator\\\\mlb_hitting_stats.csv')"
      ]
    },
    {
      "cell_type": "markdown",
      "metadata": {
        "id": "MeojxdfxWfJu"
      },
      "source": [
        "## Create Classes"
      ]
    },
    {
      "cell_type": "markdown",
      "metadata": {
        "id": "ViW_DSIj1n_Y"
      },
      "source": [
        "### Player Class"
      ]
    },
    {
      "cell_type": "code",
      "execution_count": 51,
      "metadata": {
        "id": "UKroNY2DSHHr"
      },
      "outputs": [],
      "source": [
        "class Player:\n",
        "    def __init__(self, name,\n",
        "                 plate_apps_rhp, at_bats_rhp, singles_rhp, doubles_rhp, triples_rhp, home_runs_rhp,\n",
        "                 OBP_rhp, SLG_rhp, strikeouts_rhp, walks_rhp, sac_bunts_rhp, sac_flies_rhp, hbp_rhp,\n",
        "                 plate_apps_lhp, at_bats_lhp, singles_lhp, doubles_lhp, triples_lhp, home_runs_lhp,\n",
        "                 OBP_lhp, SLG_lhp, strikeouts_lhp, walks_lhp, sac_bunts_lhp, sac_flies_lhp, hbp_lhp,\n",
        "                 pull_oppo_GB_pct, middle_GB_pct):\n",
        "\n",
        "        self.name = name\n",
        "\n",
        "        # vs RHP\n",
        "        self.plate_apps_rhp = plate_apps_rhp\n",
        "        self.at_bats_rhp = at_bats_rhp\n",
        "        self.singles_rhp = singles_rhp\n",
        "        self.doubles_rhp = doubles_rhp\n",
        "        self.triples_rhp = triples_rhp\n",
        "        self.home_runs_rhp = home_runs_rhp\n",
        "        self.OBP_rhp = OBP_rhp\n",
        "        self.SLG_rhp = SLG_rhp\n",
        "        self.strikeouts_rhp = strikeouts_rhp\n",
        "        self.walks_rhp = walks_rhp\n",
        "        self.sac_bunts_rhp = sac_bunts_rhp\n",
        "        self.sac_flies_rhp = sac_flies_rhp\n",
        "        self.hbp_rhp = hbp_rhp\n",
        "\n",
        "        # vs LHP\n",
        "        self.plate_apps_lhp = plate_apps_lhp\n",
        "        self.at_bats_lhp = at_bats_lhp\n",
        "        self.singles_lhp = singles_lhp\n",
        "        self.doubles_lhp = doubles_lhp\n",
        "        self.triples_lhp = triples_lhp\n",
        "        self.home_runs_lhp = home_runs_lhp\n",
        "        self.OBP_lhp = OBP_lhp\n",
        "        self.SLG_lhp = SLG_lhp\n",
        "        self.strikeouts_lhp = strikeouts_lhp\n",
        "        self.walks_lhp = walks_lhp\n",
        "        self.sac_bunts_lhp = sac_bunts_lhp\n",
        "        self.sac_flies_lhp = sac_flies_lhp\n",
        "        self.hbp_lhp = hbp_lhp\n",
        "\n",
        "        # Groundball splits\n",
        "        self.pull_oppo_GB_pct = pull_oppo_GB_pct\n",
        "        self.middle_GB_pct = middle_GB_pct\n",
        "\n",
        "    # --- Rate Calculations ---\n",
        "    def find_single_rate(self, vs='rhp'):\n",
        "        pa = self.plate_apps_rhp - self.sac_bunts_rhp if vs == 'rhp' else self.plate_apps_lhp - self.sac_bunts_lhp\n",
        "        singles = self.singles_rhp if vs == 'rhp' else self.singles_lhp\n",
        "        return round(singles / pa, 3) if pa > 0 else 0\n",
        "\n",
        "    def find_double_rate(self, vs='rhp'):\n",
        "        pa = self.plate_apps_rhp - self.sac_bunts_rhp if vs == 'rhp' else self.plate_apps_lhp - self.sac_bunts_lhp\n",
        "        doubles = self.doubles_rhp if vs == 'rhp' else self.doubles_lhp\n",
        "        return round(doubles / pa, 3) if pa > 0 else 0\n",
        "\n",
        "    def find_triple_rate(self, vs='rhp'):\n",
        "        pa = self.plate_apps_rhp - self.sac_bunts_rhp if vs == 'rhp' else self.plate_apps_lhp - self.sac_bunts_lhp\n",
        "        triples = self.triples_rhp if vs == 'rhp' else self.triples_lhp\n",
        "        return round(triples / pa, 3) if pa > 0 else 0\n",
        "\n",
        "    def find_HR_rate(self, vs='rhp'):\n",
        "        pa = self.plate_apps_rhp - self.sac_bunts_rhp if vs == 'rhp' else self.plate_apps_lhp - self.sac_bunts_lhp\n",
        "        hr = self.home_runs_rhp if vs == 'rhp' else self.home_runs_lhp\n",
        "        return round(hr / pa, 3) if pa > 0 else 0\n",
        "\n",
        "    def find_walk_rate(self, vs='rhp'):\n",
        "        pa = self.plate_apps_rhp - self.sac_bunts_rhp if vs == 'rhp' else self.plate_apps_lhp - self.sac_bunts_lhp\n",
        "        walks = self.walks_rhp if vs == 'rhp' else self.walks_lhp\n",
        "        return round(walks / pa, 3) if pa > 0 else 0\n",
        "\n",
        "    def find_sac_bunt_rate(self, vs='rhp'):\n",
        "        pa = self.plate_apps_rhp - self.sac_bunts_rhp if vs == 'rhp' else self.plate_apps_lhp - self.sac_bunts_lhp\n",
        "        sacs = self.sac_bunts_rhp if vs == 'rhp' else self.sac_bunts_lhp\n",
        "        return round(sacs / pa, 4) if pa > 0 else 0\n",
        "\n",
        "    def find_sac_fly_rate(self, vs='rhp'):\n",
        "        pa = self.plate_apps_rhp - self.sac_bunts_rhp if vs == 'rhp' else self.plate_apps_lhp - self.sac_bunts_lhp\n",
        "        sacs = self.sac_flies_rhp if vs == 'rhp' else self.sac_flies_lhp\n",
        "        return round(sacs / pa, 4) if pa > 0 else 0\n",
        "\n",
        "    def find_hbp_rate(self, vs='rhp'):\n",
        "        pa = self.plate_apps_rhp - self.sac_bunts_rhp if vs == 'rhp' else self.plate_apps_lhp - self.sac_bunts_lhp\n",
        "        hbp = self.hbp_rhp if vs == 'rhp' else self.hbp_lhp\n",
        "        return round(hbp / pa, 4) if pa > 0 else 0\n",
        "\n",
        "    # --- Display ---\n",
        "    def __str__(self):\n",
        "        return (f\"Player: {self.name}\\n\"\n",
        "                f\"--- vs RHP ---\\n\"\n",
        "                f\"PA: {self.plate_apps_rhp}, AB: {self.at_bats_rhp}, BB: {self.walks_rhp}, K: {self.strikeouts_rhp}, \"\n",
        "                f\"SH: {self.sac_bunts_rhp + self.sac_flies_rhp}, HBP: {self.hbp_rhp}\\n\"\n",
        "                f\"1B: {self.singles_rhp}, 2B: {self.doubles_rhp}, 3B: {self.triples_rhp}, HR: {self.home_runs_rhp}\\n\"\n",
        "                f\"OBP: {self.OBP_rhp}, SLG: {self.SLG_rhp}\\n\"\n",
        "                f\"--- vs LHP ---\\n\"\n",
        "                f\"PA: {self.plate_apps_lhp}, AB: {self.at_bats_lhp}, BB: {self.walks_lhp}, K: {self.strikeouts_lhp}, \"\n",
        "                f\"SH: {self.sac_bunts_lhp + self.sac_flies_lhp}, HBP: {self.hbp_lhp}\\n\"\n",
        "                f\"1B: {self.singles_lhp}, 2B: {self.doubles_lhp}, 3B: {self.triples_lhp}, HR: {self.home_runs_lhp}\\n\"\n",
        "                f\"OBP: {self.OBP_lhp}, SLG: {self.SLG_lhp}\\n\"\n",
        "                f\"Groundball Pct (Pull/Oppo): {self.pull_oppo_GB_pct}, Middle: {self.middle_GB_pct}\")\n",
        "\n",
        "    def print_player(self):\n",
        "        return f\"->   {self.name}      PAs: {self.plate_apps_lhp + self.plate_apps_rhp}\""
      ]
    },
    {
      "cell_type": "markdown",
      "metadata": {
        "id": "4EyoeXLa5Jw8"
      },
      "source": [
        "### BaseRunners Class"
      ]
    },
    {
      "cell_type": "code",
      "execution_count": 52,
      "metadata": {
        "id": "43Gj6fNJ5OU-"
      },
      "outputs": [],
      "source": [
        "# Create BaseRunners class\n",
        "class BaseRunners:\n",
        "    def __init__(self):\n",
        "        # [First base, Second base, Third base]\n",
        "        self.bases = [None, None, None]\n",
        "        self.next_runner_id = 1  # simple ID to track runners\n",
        "\n",
        "    def add_runner(self, base_number):\n",
        "        \"\"\"Adds a new batter to given base.\"\"\"\n",
        "        if 1 <= base_number <= 3:\n",
        "          self.bases[base_number - 1] = self.next_runner_id\n",
        "          self.next_runner_id += 1\n",
        "\n",
        "    def advance_runners(self, bases_to_advance):\n",
        "        \"\"\"Advances all runners the given number of bases.\"\"\"\n",
        "        new_bases = [None, None, None]\n",
        "        runs = 0\n",
        "\n",
        "        for i in reversed(range(3)):\n",
        "            runner = self.bases[i]\n",
        "            if runner is not None:\n",
        "                new_position = i + bases_to_advance\n",
        "                if new_position >= 3:\n",
        "                    runs += 1  # runner scores\n",
        "                else:\n",
        "                    new_bases[new_position] = runner\n",
        "\n",
        "        # Add the new batter (as a new runner) to first base\n",
        "        if bases_to_advance >= 4:\n",
        "            runs += 1\n",
        "        elif bases_to_advance > 0:\n",
        "            new_bases[bases_to_advance - 1] = self.next_runner_id\n",
        "            self.next_runner_id += 1\n",
        "\n",
        "        self.bases = new_bases\n",
        "        return runs\n",
        "\n",
        "    def reset_bases(self):\n",
        "      \"\"\"Resets the bases\"\"\"\n",
        "      self.bases = [None, None, None]\n",
        "\n",
        "    def __str__(self):\n",
        "        return f\"1B: {self.bases[0]}, 2B: {self.bases[1]}, 3B: {self.bases[2]}\"\n",
        "\n",
        "    def is_runner_on_first(self):\n",
        "        return self.bases[0] is not None\n",
        "\n",
        "    def is_runner_on_second(self):\n",
        "      return self.bases[1] is not None\n",
        "\n",
        "    def is_runner_on_third(self):\n",
        "      return self.bases[2] is not None\n",
        "\n",
        "    def walk_runner(self):\n",
        "      \"\"\"Handles walking a batter — forces runners to advance if needed.\"\"\"\n",
        "      runs = 0\n",
        "\n",
        "      # If all bases are full, walking a batter scores a run\n",
        "      if self.bases[0] and self.bases[1] and self.bases[2]:\n",
        "          runs += 1\n",
        "\n",
        "          self.bases[2] = self.bases[1]\n",
        "          self.bases[1] = self.bases[0]\n",
        "          self.bases[0] = self.next_runner_id\n",
        "          self.next_runner_id += 1\n",
        "\n",
        "      elif self.bases[0] and self.bases[1]:\n",
        "          # If first and second occupied, shift to second and third\n",
        "          self.bases[2] = self.bases[1]\n",
        "          self.bases[1] = self.bases[0]\n",
        "          self.bases[0] = self.next_runner_id\n",
        "          self.next_runner_id += 1\n",
        "\n",
        "      elif self.bases[0]:  # Only first base occupied, runner to second\n",
        "          self.bases[1] = self.bases[0]\n",
        "          self.bases[0] = self.next_runner_id\n",
        "          self.next_runner_id += 1\n",
        "\n",
        "      else: # No one on first, batter just goes to first\n",
        "          self.bases[0] = self.next_runner_id\n",
        "          self.next_runner_id += 1\n",
        "\n",
        "      return runs\n",
        "\n",
        "    def runner_scores_from_third(self):\n",
        "      if self.bases[2] is not None:\n",
        "          runner_id = self.bases[2]\n",
        "          self.bases[2] = None\n",
        "          return 1\n",
        "      return 0\n",
        "\n",
        "\n"
      ]
    },
    {
      "cell_type": "markdown",
      "metadata": {
        "id": "GVQn6AxS1smV"
      },
      "source": [
        "## Testing and Simulation"
      ]
    },
    {
      "cell_type": "code",
      "execution_count": 53,
      "metadata": {
        "id": "3NjIbwoi2xs5"
      },
      "outputs": [],
      "source": [
        "\"\"\"Returns a list of players from a team as Player objects\"\"\"\n",
        "def get_players(team):\n",
        "\n",
        "  players = master_hitting_stats_df[master_hitting_stats_df['Team'] == team]   # Get all players from given team\n",
        "\n",
        "  players_list = []   # Create list for players\n",
        "\n",
        "  # Create a player object for each player\n",
        "  for index, row in players.iterrows():\n",
        "    player = Player(\n",
        "        # RHP\n",
        "        row['Player'],\n",
        "        row['PA_RHP'],  # plate appearances\n",
        "        row['AB_RHP'], # at-bats\n",
        "        (row['H_RHP'] - row['2B_RHP'] - row['3B_RHP'] - row['HR_RHP']),  # singles\n",
        "        row['2B_RHP'],\n",
        "        row['3B_RHP'],\n",
        "        row['HR_RHP'],\n",
        "        row['OBP_RHP'],\n",
        "        row['SLG_RHP'],\n",
        "        row['SO_RHP'],\n",
        "        row['BB_RHP'],\n",
        "        row['SAC_RHP'],  # sac bunts\n",
        "        row['SF_RHP'],   # sac flies\n",
        "        row['HBP_RHP'],  # hit by pitch\n",
        "        # LHP\n",
        "        row['PA_LHP'],  # plate appearances\n",
        "        row['AB_LHP'], # at-bats\n",
        "        (row['H_LHP'] - row['2B_LHP'] - row['3B_LHP'] - row['HR_LHP']),  # singles\n",
        "        row['2B_LHP'],\n",
        "        row['3B_LHP'],\n",
        "        row['HR_LHP'],\n",
        "        row['OBP_LHP'],\n",
        "        row['SLG_LHP'],\n",
        "        row['SO_LHP'],\n",
        "        row['BB_LHP'],\n",
        "        row['SAC_LHP'],  # sac bunts\n",
        "        row['SF_LHP'],   # sac flies\n",
        "        row['HBP_LHP'],  # hit by pitch\n",
        "\n",
        "        round((row['PullGB%'] + row['OppoGB%']), 3),\n",
        "        row['StraightGB%']\n",
        "    )\n",
        "\n",
        "    players_list.append(player) # Add player to list\n",
        "    players_list.sort(key=lambda p: p.name) # Sort players alphabetically\n",
        "\n",
        "  return players_list"
      ]
    },
    {
      "cell_type": "code",
      "execution_count": 54,
      "metadata": {
        "id": "fFtq9WCL_K_E"
      },
      "outputs": [],
      "source": [
        "\"\"\"Prints all the players in a list\"\"\"\n",
        "def print_players(list):\n",
        "  index = 0\n",
        "  for p in list:\n",
        "    print(f\"-   {p.name}      PAs: {(p.plate_apps_rhp + p.plate_apps_rhp)}     RHP OBP: {p.OBP_rhp}      LHP OBP: {p.OBP_lhp}      Index: {index}\")\n",
        "    index += 1"
      ]
    },
    {
      "cell_type": "markdown",
      "metadata": {
        "id": "xXEpdJq6D5cE"
      },
      "source": [
        "### Set Phillies Lineups"
      ]
    },
    {
      "cell_type": "code",
      "execution_count": 55,
      "metadata": {
        "colab": {
          "base_uri": "https://localhost:8080/"
        },
        "id": "LnY5yZI-D4_8",
        "outputId": "5786b5c0-c558-4393-e90f-3b2f418a55a1"
      },
      "outputs": [
        {
          "name": "stdout",
          "output_type": "stream",
          "text": [
            "-   Alec Bohm      PAs: 658.0     RHP OBP: 0.315      LHP OBP: 0.331      Index: 0\n",
            "-   Brandon Marsh      PAs: 576.0     RHP OBP: 0.358      LHP OBP: 0.292      Index: 1\n",
            "-   Bryce Harper      PAs: 600.0     RHP OBP: 0.368      LHP OBP: 0.332      Index: 2\n",
            "-   Bryson Stott      PAs: 764.0     RHP OBP: 0.33      LHP OBP: 0.293      Index: 3\n",
            "-   Edmundo Sosa      PAs: 252.0     RHP OBP: 0.254      LHP OBP: 0.37      Index: 4\n",
            "-   Harrison Bader      PAs: 438.0     RHP OBP: 0.371      LHP OBP: 0.3      Index: 5\n",
            "-   J.T. Realmuto      PAs: 672.0     RHP OBP: 0.356      LHP OBP: 0.252      Index: 6\n",
            "-   Johan Rojas      PAs: 194.0     RHP OBP: 0.274      LHP OBP: 0.288      Index: 7\n",
            "-   Kyle Schwarber      PAs: 774.0     RHP OBP: 0.367      LHP OBP: 0.365      Index: 8\n",
            "-   Max Kepler      PAs: 710.0     RHP OBP: 0.31      LHP OBP: 0.25      Index: 9\n",
            "-   Nick Castellanos      PAs: 742.0     RHP OBP: 0.297      LHP OBP: 0.295      Index: 10\n",
            "-   Otto Kemp      PAs: 218.0     RHP OBP: 0.284      LHP OBP: 0.327      Index: 11\n",
            "-   Rafael Marchan      PAs: 142.0     RHP OBP: 0.247      LHP OBP: 0.321      Index: 12\n",
            "-   Trea Turner      PAs: 850.0     RHP OBP: 0.347      LHP OBP: 0.376      Index: 13\n",
            "-   Weston Wilson      PAs: 34.0     RHP OBP: 0.353      LHP OBP: 0.292      Index: 14\n"
          ]
        }
      ],
      "source": [
        "# Get the players from the Phillies\n",
        "phillies_hitters = get_players(\"PHI\")\n",
        "\n",
        "# Print the players in the list\n",
        "print_players(phillies_hitters)"
      ]
    },
    {
      "cell_type": "code",
      "execution_count": 56,
      "metadata": {
        "id": "D1CH2H4fS98m"
      },
      "outputs": [],
      "source": [
        "# Create list for starting lineup\n",
        "phillies_lineup_rhp = []\n",
        "\n",
        "# Set lineup based on indexes from above code block\n",
        "phillies_lineup_rhp.extend([phillies_hitters[13], phillies_hitters[8], phillies_hitters[2],\n",
        "                            phillies_hitters[6], phillies_hitters[0], phillies_hitters[1],\n",
        "                            phillies_hitters[5], phillies_hitters[7], phillies_hitters[3]])\n",
        "\n",
        "# Create list for starting lineup\n",
        "phillies_lineup_lhp = []\n",
        "\n",
        "# Set lineup based on indexes from above code block\n",
        "phillies_lineup_lhp.extend([phillies_hitters[13], phillies_hitters[8], phillies_hitters[2],\n",
        "                            phillies_hitters[6], phillies_hitters[0], phillies_hitters[1],\n",
        "                            phillies_hitters[5], phillies_hitters[7], phillies_hitters[3]])"
      ]
    },
    {
      "cell_type": "markdown",
      "metadata": {
        "id": "TVAtvvW8_vLX"
      },
      "source": [
        "Testing"
      ]
    },
    {
      "cell_type": "code",
      "execution_count": 57,
      "metadata": {
        "colab": {
          "base_uri": "https://localhost:8080/"
        },
        "id": "GwfzI84M_waC",
        "outputId": "11bc77cd-2b03-4c67-e117-0a42ca47c0f1"
      },
      "outputs": [
        {
          "name": "stdout",
          "output_type": "stream",
          "text": [
            "Player: Bryce Harper\n",
            "--- vs RHP ---\n",
            "PA: 300.0, AB: 260.0, BB: 43.0, K: 61.0, SH: 3.0, HBP: 4.0\n",
            "1B: 33.0, 2B: 19.0, 3B: 0.0, HR: 15.0\n",
            "OBP: 0.368, SLG: 0.504\n",
            "--- vs LHP ---\n",
            "PA: 192, AB: 180, BB: 15, K: 45, SH: 0, HBP: 1\n",
            "1B: 29, 2B: 11, 3B: 0, HR: 9\n",
            "OBP: 0.332, SLG: 0.483\n",
            "Groundball Pct (Pull/Oppo): 0.273, Middle: 0.159\n"
          ]
        }
      ],
      "source": [
        "test_player = phillies_hitters[2]\n",
        "\n",
        "print(test_player)"
      ]
    },
    {
      "cell_type": "markdown",
      "metadata": {
        "id": "z2bCO1XytBd5"
      },
      "source": [
        "### Create Simulator Functions"
      ]
    },
    {
      "cell_type": "code",
      "execution_count": 67,
      "metadata": {
        "id": "RFddQWoIAk1b"
      },
      "outputs": [],
      "source": [
        "\"\"\"Simulates a game against an average RHP\"\"\"\n",
        "def right_hander_sim(innings, batting_order_start_spot, starting_lineup, starting_outs, runner_on_first, runner_on_second, runner_on_third):\n",
        "  spot_in_batting_order = batting_order_start_spot\n",
        "  total_runs_scored = 0\n",
        "\n",
        "  # Initialize BaseRunners\n",
        "  bases = BaseRunners()\n",
        "  if runner_on_first:\n",
        "    bases.add_runner(1)\n",
        "  if runner_on_second:\n",
        "    bases.add_runner(2)\n",
        "  if runner_on_third:\n",
        "    bases.add_runner(3)\n",
        "  bases.next_runner_id = spot_in_batting_order\n",
        "  # Simulate Nine Innings\n",
        "  for num_inning in range(1, innings + 1):\n",
        "      num_outs = starting_outs\n",
        "      runs_scored = 0\n",
        "      print(f\"\\n--------------- Inning {num_inning} ---------------\")\n",
        "  # Simulate One Inning\n",
        "      while num_outs < 3:\n",
        "        player_at_bat = starting_lineup[spot_in_batting_order - 1]\n",
        "        random_number = round(random.uniform(0, 1), 3)\n",
        "        print(f\"\\n{player_at_bat.name} - {random_number}\")\n",
        "        \"\"\"Check for Hit, Out, or Other Event\"\"\"\n",
        "        if random_number > player_at_bat.OBP_rhp: # Got out\n",
        "          # Out logic\n",
        "          strikeout_chance = player_at_bat.strikeouts_rhp / player_at_bat.plate_apps_rhp\n",
        "          groundout_chance = (1 - player_at_bat.OBP_rhp - strikeout_chance) * (player_at_bat.pull_oppo_GB_pct + player_at_bat.middle_GB_pct)\n",
        "          airout_chance = (1 - player_at_bat.OBP_rhp - strikeout_chance) * (1 - (player_at_bat.pull_oppo_GB_pct + player_at_bat.middle_GB_pct))\n",
        "\n",
        "\n",
        "          if random_number < (player_at_bat.OBP_rhp + strikeout_chance): # Strikeout\n",
        "              num_outs += 1\n",
        "              print(f\"---- Strikeout - {num_outs} Outs ----\")\n",
        "          elif random_number < (player_at_bat.OBP_rhp + strikeout_chance + groundout_chance): # Groundout\n",
        "              random_num = random.uniform(0, 100)\n",
        "              if (random_num <= 10) & (bases.is_runner_on_first() == True) & (num_outs <= 1):  # Double play\n",
        "                num_outs += 2\n",
        "                print(f\"---- Double Play - {num_outs} Outs ----\")\n",
        "              elif (random_num <= 30) & (bases.is_runner_on_third() == True) & (num_outs <= 1):\n",
        "                num_outs +=1\n",
        "                runs_scored += bases.runner_scores_from_third()\n",
        "                total_runs_scored += runs_scored\n",
        "                print(f\"---- Sacrifice Groundout - {num_outs} Outs ----\")\n",
        "              else:\n",
        "                num_outs += 1\n",
        "                print(f\"---- Groundout - {num_outs} Outs ----\")\n",
        "          else: # Flyout\n",
        "              random_num = random.uniform(0, 100)\n",
        "              num_outs += 1\n",
        "              if bases.is_runner_on_third() and num_outs < 3 and random_num < 50:\n",
        "                runs_scored += bases.runner_scores_from_third()\n",
        "                total_runs_scored += runs_scored\n",
        "                print(f\"---- Sacrifice Fly - {num_outs} Outs ----\")\n",
        "              else:\n",
        "                print(f\"---- Flyout - {num_outs} Outs ----\")\n",
        "\n",
        "        else: # Got on base\n",
        "          single_rate = player_at_bat.find_single_rate(vs='rhp')\n",
        "          double_rate = player_at_bat.find_double_rate(vs='rhp')\n",
        "          triple_rate = player_at_bat.find_triple_rate(vs='rhp')\n",
        "          HR_rate = player_at_bat.find_HR_rate(vs='rhp')\n",
        "          walk_rate = player_at_bat.find_walk_rate(vs='rhp')\n",
        "          hbp_rate = player_at_bat.find_hbp_rate(vs='rhp')\n",
        "          total_rate = single_rate + double_rate + triple_rate + HR_rate + walk_rate + hbp_rate\n",
        "\n",
        "\n",
        "          # Generate new random number\n",
        "          random_hit_num = round(random.uniform(0, total_rate), 3)\n",
        "\n",
        "          \"\"\" Check what type of hit player got \"\"\"\n",
        "          if random_hit_num < (walk_rate):\n",
        "            runs_batted_in = bases.walk_runner()\n",
        "            print(\"Walk!\")\n",
        "          elif random_hit_num < (walk_rate + hbp_rate):\n",
        "            runs_batted_in = bases.walk_runner()\n",
        "            print(\"Hit by Pitch!\")\n",
        "          elif random_hit_num < (walk_rate + hbp_rate + single_rate):\n",
        "            runs_batted_in = bases.advance_runners(1)\n",
        "            print(\"Single!\")\n",
        "          elif random_hit_num < (walk_rate + hbp_rate + single_rate + double_rate):\n",
        "            runs_batted_in = bases.advance_runners(2)\n",
        "            print(\"Double!\")\n",
        "          elif random_hit_num < (walk_rate + hbp_rate + single_rate + double_rate + triple_rate):\n",
        "            runs_batted_in = bases.advance_runners(3)\n",
        "            print(\"Triple!\")\n",
        "          elif random_hit_num < (walk_rate + hbp_rate + single_rate + double_rate + triple_rate + HR_rate):\n",
        "            runs_batted_in = bases.advance_runners(4)\n",
        "            print(\"Home Run!\")\n",
        "          else: # Need to make checks more precise, this else statement is just a placeholder\n",
        "            runs_batted_in = bases.advance_runners(1)\n",
        "            print(\"Error/Fielder's Choice!\")\n",
        "\n",
        "          print(f\"{player_at_bat.name} hit in {runs_batted_in} runs\")\n",
        "          print(f\"Bases - {bases}\")\n",
        "          runs_scored += runs_batted_in   # Calculate runs scored in the inning\n",
        "          total_runs_scored += runs_batted_in  # Calculate runs scored in the game\n",
        "        spot_in_batting_order += 1\n",
        "        if spot_in_batting_order > 9:\n",
        "          spot_in_batting_order = 1\n",
        "\n",
        "      # Print runs for inning\n",
        "      print(f\"\\nRuns Scored in Inning: {runs_scored}\")\n",
        "      print(f\"Runs Scored in Game: {total_runs_scored}\\n\")\n",
        "      bases.reset_bases()\n",
        "\n",
        "  return total_runs_scored"
      ]
    },
    {
      "cell_type": "code",
      "execution_count": 66,
      "metadata": {
        "id": "_Mg_hawwH9Ok"
      },
      "outputs": [],
      "source": [
        "\"\"\"Simulates a game against an average LHP\"\"\"\n",
        "def left_hander_sim(innings, batting_order_start_spot, starting_lineup, starting_outs, runner_on_first, runner_on_second, runner_on_third):\n",
        "    spot_in_batting_order = batting_order_start_spot\n",
        "    total_runs_scored = 0\n",
        "\n",
        "    # Initialize BaseRunners\n",
        "    bases = BaseRunners()\n",
        "    if runner_on_first:\n",
        "        bases.add_runner(1)\n",
        "    if runner_on_second:\n",
        "        bases.add_runner(2)\n",
        "    if runner_on_third:\n",
        "        bases.add_runner(3)\n",
        "    bases.next_runner_id = spot_in_batting_order\n",
        "\n",
        "    for num_inning in range(1, innings + 1):\n",
        "        num_outs = starting_outs\n",
        "        runs_scored = 0\n",
        "        print(f\"\\n--------------- Inning {num_inning} ---------------\")\n",
        "\n",
        "        while num_outs < 3:\n",
        "            player_at_bat = starting_lineup[spot_in_batting_order - 1]\n",
        "            random_number = round(random.uniform(0, 1), 3)\n",
        "            print(f\"\\n{player_at_bat.name} - {random_number}\")\n",
        "\n",
        "            if random_number > player_at_bat.OBP_lhp:\n",
        "                strikeout_chance = player_at_bat.strikeouts_lhp / player_at_bat.plate_apps_lhp\n",
        "                groundout_chance = (1 - player_at_bat.OBP_lhp - strikeout_chance) * (player_at_bat.pull_oppo_GB_pct + player_at_bat.middle_GB_pct)\n",
        "                airout_chance = (1 - player_at_bat.OBP_lhp - strikeout_chance) * (1 - (player_at_bat.pull_oppo_GB_pct + player_at_bat.middle_GB_pct))\n",
        "\n",
        "                if random_number < (player_at_bat.OBP_lhp + strikeout_chance):\n",
        "                    num_outs += 1\n",
        "                    print(f\"---- Strikeout - {num_outs} Outs ----\")\n",
        "                elif random_number < (player_at_bat.OBP_lhp + strikeout_chance + groundout_chance):\n",
        "                    random_num = random.uniform(0, 100)\n",
        "                    if (random_num <= 10) & (bases.is_runner_on_first()) & (num_outs <= 1):\n",
        "                        num_outs += 2\n",
        "                        print(f\"---- Double Play - {num_outs} Outs ----\")\n",
        "                    elif (random_num <= 30) & (bases.is_runner_on_third()) & (num_outs <= 1):\n",
        "                        num_outs += 1\n",
        "                        runs_scored += bases.runner_scores_from_third()\n",
        "                        total_runs_scored += runs_scored\n",
        "                        print(f\"---- Sacrifice Groundout - {num_outs} Outs ----\")\n",
        "                    else:\n",
        "                        num_outs += 1\n",
        "                        print(f\"---- Groundout - {num_outs} Outs ----\")\n",
        "                else:\n",
        "                    random_num = random.uniform(0, 100)\n",
        "                    num_outs += 1\n",
        "                    if bases.is_runner_on_third() and num_outs < 3 and random_num < 50:\n",
        "                        runs_scored += bases.runner_scores_from_third()\n",
        "                        total_runs_scored += runs_scored\n",
        "                        print(f\"---- Sacrifice Fly - {num_outs} Outs ----\")\n",
        "                    else:\n",
        "                        print(f\"---- Flyout - {num_outs} Outs ----\")\n",
        "\n",
        "            else:\n",
        "                single_rate = player_at_bat.find_single_rate(vs='lhp')\n",
        "                double_rate = player_at_bat.find_double_rate(vs='lhp')\n",
        "                triple_rate = player_at_bat.find_triple_rate(vs='lhp')\n",
        "                HR_rate = player_at_bat.find_HR_rate(vs='lhp')\n",
        "                walk_rate = player_at_bat.find_walk_rate(vs='lhp')\n",
        "                hbp_rate = player_at_bat.find_hbp_rate(vs='lhp')\n",
        "                total_rate = single_rate + double_rate + triple_rate + HR_rate + walk_rate + hbp_rate\n",
        "\n",
        "                random_hit_num = round(random.uniform(0, total_rate), 3)\n",
        "\n",
        "                if random_hit_num < walk_rate:\n",
        "                    runs_batted_in = bases.walk_runner()\n",
        "                    print(\"Walk!\")\n",
        "                elif random_hit_num < (walk_rate + hbp_rate):\n",
        "                    runs_batted_in = bases.walk_runner()\n",
        "                    print(\"Hit by Pitch!\")\n",
        "                elif random_hit_num < (walk_rate + hbp_rate + single_rate):\n",
        "                    runs_batted_in = bases.advance_runners(1)\n",
        "                    print(\"Single!\")\n",
        "                elif random_hit_num < (walk_rate + hbp_rate + single_rate + double_rate):\n",
        "                    runs_batted_in = bases.advance_runners(2)\n",
        "                    print(\"Double!\")\n",
        "                elif random_hit_num < (walk_rate + hbp_rate + single_rate + double_rate + triple_rate):\n",
        "                    runs_batted_in = bases.advance_runners(3)\n",
        "                    print(\"Triple!\")\n",
        "                elif random_hit_num < (walk_rate + hbp_rate + single_rate + double_rate + triple_rate + HR_rate):\n",
        "                    runs_batted_in = bases.advance_runners(4)\n",
        "                    print(\"Home Run!\")\n",
        "                else:\n",
        "                    runs_batted_in = bases.advance_runners(1)\n",
        "                    print(\"Error/Fielder's Choice!\")\n",
        "\n",
        "                print(f\"{player_at_bat.name} hit in {runs_batted_in} runs\")\n",
        "                print(f\"Bases - {bases}\")\n",
        "                runs_scored += runs_batted_in\n",
        "                total_runs_scored += runs_batted_in\n",
        "\n",
        "            spot_in_batting_order += 1\n",
        "            if spot_in_batting_order > 9:\n",
        "                spot_in_batting_order = 1\n",
        "\n",
        "        print(f\"\\nRuns Scored in Inning: {runs_scored}\")\n",
        "        print(f\"Runs Scored in Game: {total_runs_scored}\\n\")\n",
        "        bases.reset_bases()\n",
        "\n",
        "    return total_runs_scored"
      ]
    },
    {
      "cell_type": "markdown",
      "metadata": {},
      "source": [
        "### Printless Simulator Functions"
      ]
    },
    {
      "cell_type": "code",
      "execution_count": 64,
      "metadata": {},
      "outputs": [],
      "source": [
        "\"\"\"Simulates a game against an average RHP without print statements\"\"\"\n",
        "\n",
        "def right_hander_sim_no_print(innings, batting_order_start_spot, starting_lineup, starting_outs, runner_on_first, runner_on_second, runner_on_third):\n",
        "  spot_in_batting_order = batting_order_start_spot\n",
        "  total_runs_scored = 0\n",
        "\n",
        "  # Initialize BaseRunners\n",
        "  bases = BaseRunners()\n",
        "  if runner_on_first:\n",
        "    bases.add_runner(1)\n",
        "  if runner_on_second:\n",
        "    bases.add_runner(2)\n",
        "  if runner_on_third:\n",
        "    bases.add_runner(3)\n",
        "  bases.next_runner_id = spot_in_batting_order\n",
        "  # Simulate Nine Innings\n",
        "  for num_inning in range(1, innings + 1):\n",
        "      num_outs = starting_outs\n",
        "      runs_scored = 0\n",
        "  # Simulate One Inning\n",
        "      while num_outs < 3:\n",
        "        player_at_bat = starting_lineup[spot_in_batting_order - 1]\n",
        "        random_number = round(random.uniform(0, 1), 3)\n",
        "\n",
        "        \"\"\"Check for Hit, Out, or Other Event\"\"\"\n",
        "        if random_number > player_at_bat.OBP_rhp: # Got out\n",
        "          # Out logic\n",
        "          strikeout_chance = player_at_bat.strikeouts_rhp / player_at_bat.plate_apps_rhp\n",
        "          groundout_chance = (1 - player_at_bat.OBP_rhp - strikeout_chance) * (player_at_bat.pull_oppo_GB_pct + player_at_bat.middle_GB_pct)\n",
        "          airout_chance = (1 - player_at_bat.OBP_rhp - strikeout_chance) * (1 - (player_at_bat.pull_oppo_GB_pct + player_at_bat.middle_GB_pct))\n",
        "\n",
        "\n",
        "          if random_number < (player_at_bat.OBP_rhp + strikeout_chance): # Strikeout\n",
        "              num_outs += 1\n",
        "          elif random_number < (player_at_bat.OBP_rhp + strikeout_chance + groundout_chance): # Groundout\n",
        "              random_num = random.uniform(0, 100)\n",
        "              if (random_num <= 10) & (bases.is_runner_on_first() == True) & (num_outs <= 1):  # Double play\n",
        "                num_outs += 2\n",
        "              elif (random_num <= 30) & (bases.is_runner_on_third() == True) & (num_outs <= 1):\n",
        "                num_outs +=1\n",
        "                runs_scored += bases.runner_scores_from_third()\n",
        "                total_runs_scored += runs_scored\n",
        "              else:\n",
        "                num_outs += 1\n",
        "          else: # Flyout\n",
        "              random_num = random.uniform(0, 100)\n",
        "              num_outs += 1\n",
        "              if bases.is_runner_on_third() and num_outs < 3 and random_num < 50:\n",
        "                runs_scored += bases.runner_scores_from_third()\n",
        "                total_runs_scored += runs_scored\n",
        "\n",
        "        else: # Got on base\n",
        "          single_rate = player_at_bat.find_single_rate(vs='rhp')\n",
        "          double_rate = player_at_bat.find_double_rate(vs='rhp')\n",
        "          triple_rate = player_at_bat.find_triple_rate(vs='rhp')\n",
        "          HR_rate = player_at_bat.find_HR_rate(vs='rhp')\n",
        "          walk_rate = player_at_bat.find_walk_rate(vs='rhp')\n",
        "          hbp_rate = player_at_bat.find_hbp_rate(vs='rhp')\n",
        "          total_rate = single_rate + double_rate + triple_rate + HR_rate + walk_rate + hbp_rate\n",
        "\n",
        "\n",
        "          # Generate new random number\n",
        "          random_hit_num = round(random.uniform(0, total_rate), 3)\n",
        "\n",
        "          \"\"\" Check what type of hit player got \"\"\"\n",
        "          if random_hit_num < (walk_rate):\n",
        "            runs_batted_in = bases.walk_runner()\n",
        "          elif random_hit_num < (walk_rate + hbp_rate):\n",
        "            runs_batted_in = bases.walk_runner()\n",
        "          elif random_hit_num < (walk_rate + hbp_rate + single_rate):\n",
        "            runs_batted_in = bases.advance_runners(1)\n",
        "          elif random_hit_num < (walk_rate + hbp_rate + single_rate + double_rate):\n",
        "            runs_batted_in = bases.advance_runners(2)\n",
        "          elif random_hit_num < (walk_rate + hbp_rate + single_rate + double_rate + triple_rate):\n",
        "            runs_batted_in = bases.advance_runners(3)\n",
        "          elif random_hit_num < (walk_rate + hbp_rate + single_rate + double_rate + triple_rate + HR_rate):\n",
        "            runs_batted_in = bases.advance_runners(4)\n",
        "          else: # Need to make checks more precise, this else statement is just a placeholder\n",
        "            runs_batted_in = bases.advance_runners(1)\n",
        "\n",
        "          runs_scored += runs_batted_in   # Calculate runs scored in the inning\n",
        "          total_runs_scored += runs_batted_in  # Calculate runs scored in the game\n",
        "        spot_in_batting_order += 1\n",
        "        if spot_in_batting_order > 9:\n",
        "          spot_in_batting_order = 1\n",
        "\n",
        "      # Print runs for inning\n",
        "      bases.reset_bases()\n",
        "\n",
        "  return total_runs_scored"
      ]
    },
    {
      "cell_type": "code",
      "execution_count": 65,
      "metadata": {},
      "outputs": [],
      "source": [
        "\"\"\"Simulates a game against an average LHP without print statements\"\"\"\n",
        "\n",
        "def left_hander_sim_no_print(innings, batting_order_start_spot, starting_lineup, starting_outs, runner_on_first, runner_on_second, runner_on_third):\n",
        "    spot_in_batting_order = batting_order_start_spot\n",
        "    total_runs_scored = 0\n",
        "\n",
        "    # Initialize BaseRunners\n",
        "    bases = BaseRunners()\n",
        "    if runner_on_first:\n",
        "        bases.add_runner(1)\n",
        "    if runner_on_second:\n",
        "        bases.add_runner(2)\n",
        "    if runner_on_third:\n",
        "        bases.add_runner(3)\n",
        "    bases.next_runner_id = spot_in_batting_order\n",
        "\n",
        "    for num_inning in range(1, innings + 1):\n",
        "        num_outs = starting_outs\n",
        "        runs_scored = 0\n",
        "\n",
        "        while num_outs < 3:\n",
        "            player_at_bat = starting_lineup[spot_in_batting_order - 1]\n",
        "            random_number = round(random.uniform(0, 1), 3)\n",
        "\n",
        "            if random_number > player_at_bat.OBP_lhp:\n",
        "                strikeout_chance = player_at_bat.strikeouts_lhp / player_at_bat.plate_apps_lhp\n",
        "                groundout_chance = (1 - player_at_bat.OBP_lhp - strikeout_chance) * (player_at_bat.pull_oppo_GB_pct + player_at_bat.middle_GB_pct)\n",
        "                airout_chance = (1 - player_at_bat.OBP_lhp - strikeout_chance) * (1 - (player_at_bat.pull_oppo_GB_pct + player_at_bat.middle_GB_pct))\n",
        "\n",
        "                if random_number < (player_at_bat.OBP_lhp + strikeout_chance):\n",
        "                    num_outs += 1\n",
        "                elif random_number < (player_at_bat.OBP_lhp + strikeout_chance + groundout_chance):\n",
        "                    random_num = random.uniform(0, 100)\n",
        "                    if (random_num <= 10) & (bases.is_runner_on_first()) & (num_outs <= 1):\n",
        "                        num_outs += 2\n",
        "                    elif (random_num <= 30) & (bases.is_runner_on_third()) & (num_outs <= 1):\n",
        "                        num_outs += 1\n",
        "                        runs_scored += bases.runner_scores_from_third()\n",
        "                        total_runs_scored += runs_scored\n",
        "                    else:\n",
        "                        num_outs += 1\n",
        "                else:\n",
        "                    random_num = random.uniform(0, 100)\n",
        "                    num_outs += 1\n",
        "                    if bases.is_runner_on_third() and num_outs < 3 and random_num < 50:\n",
        "                        runs_scored += bases.runner_scores_from_third()\n",
        "                        total_runs_scored += runs_scored\n",
        "\n",
        "            else:\n",
        "                single_rate = player_at_bat.find_single_rate(vs='lhp')\n",
        "                double_rate = player_at_bat.find_double_rate(vs='lhp')\n",
        "                triple_rate = player_at_bat.find_triple_rate(vs='lhp')\n",
        "                HR_rate = player_at_bat.find_HR_rate(vs='lhp')\n",
        "                walk_rate = player_at_bat.find_walk_rate(vs='lhp')\n",
        "                hbp_rate = player_at_bat.find_hbp_rate(vs='lhp')\n",
        "                total_rate = single_rate + double_rate + triple_rate + HR_rate + walk_rate + hbp_rate\n",
        "\n",
        "                random_hit_num = round(random.uniform(0, total_rate), 3)\n",
        "\n",
        "                if random_hit_num < walk_rate:\n",
        "                    runs_batted_in = bases.walk_runner()\n",
        "                elif random_hit_num < (walk_rate + hbp_rate):\n",
        "                    runs_batted_in = bases.walk_runner()\n",
        "                elif random_hit_num < (walk_rate + hbp_rate + single_rate):\n",
        "                    runs_batted_in = bases.advance_runners(1)\n",
        "                elif random_hit_num < (walk_rate + hbp_rate + single_rate + double_rate):\n",
        "                    runs_batted_in = bases.advance_runners(2)\n",
        "                elif random_hit_num < (walk_rate + hbp_rate + single_rate + double_rate + triple_rate):\n",
        "                    runs_batted_in = bases.advance_runners(3)\n",
        "                elif random_hit_num < (walk_rate + hbp_rate + single_rate + double_rate + triple_rate + HR_rate):\n",
        "                    runs_batted_in = bases.advance_runners(4)\n",
        "                else:\n",
        "                    runs_batted_in = bases.advance_runners(1)\n",
        "\n",
        "                runs_scored += runs_batted_in\n",
        "                total_runs_scored += runs_batted_in\n",
        "\n",
        "            spot_in_batting_order += 1\n",
        "            if spot_in_batting_order > 9:\n",
        "                spot_in_batting_order = 1\n",
        "\n",
        "        bases.reset_bases()\n",
        "\n",
        "    return total_runs_scored"
      ]
    },
    {
      "cell_type": "markdown",
      "metadata": {
        "id": "ZRmPLiLc1JYH"
      },
      "source": [
        "### Attempt Basic Simulation"
      ]
    },
    {
      "cell_type": "code",
      "execution_count": 68,
      "metadata": {
        "colab": {
          "base_uri": "https://localhost:8080/",
          "height": 158
        },
        "id": "h8nyOZnqNgb4",
        "outputId": "7449fc4e-a9b4-4c10-a4dd-449f6a37fad9"
      },
      "outputs": [
        {
          "name": "stdout",
          "output_type": "stream",
          "text": [
            "\n",
            "--------------- Inning 1 ---------------\n",
            "\n",
            "Trea Turner - 0.325\n",
            "Single!\n",
            "Trea Turner hit in 0 runs\n",
            "Bases - 1B: 1, 2B: None, 3B: None\n",
            "\n",
            "Kyle Schwarber - 0.217\n",
            "Double!\n",
            "Kyle Schwarber hit in 0 runs\n",
            "Bases - 1B: None, 2B: 2, 3B: 1\n",
            "\n",
            "Bryce Harper - 0.558\n",
            "---- Strikeout - 1 Outs ----\n",
            "\n",
            "J.T. Realmuto - 0.222\n",
            "Single!\n",
            "J.T. Realmuto hit in 1 runs\n",
            "Bases - 1B: 3, 2B: None, 3B: 2\n",
            "\n",
            "Alec Bohm - 0.77\n",
            "---- Sacrifice Fly - 2 Outs ----\n",
            "\n",
            "Brandon Marsh - 0.186\n",
            "Walk!\n",
            "Brandon Marsh hit in 0 runs\n",
            "Bases - 1B: 4, 2B: 3, 3B: None\n",
            "\n",
            "Harrison Bader - 0.238\n",
            "Single!\n",
            "Harrison Bader hit in 0 runs\n",
            "Bases - 1B: 5, 2B: 4, 3B: 3\n",
            "\n",
            "Johan Rojas - 0.344\n",
            "---- Strikeout - 3 Outs ----\n",
            "\n",
            "Runs Scored in Inning: 2\n",
            "Runs Scored in Game: 3\n",
            "\n",
            "\n",
            "--------------- Inning 2 ---------------\n",
            "\n",
            "Bryson Stott - 0.45\n",
            "---- Strikeout - 1 Outs ----\n",
            "\n",
            "Trea Turner - 0.861\n",
            "---- Flyout - 2 Outs ----\n",
            "\n",
            "Kyle Schwarber - 0.518\n",
            "---- Strikeout - 3 Outs ----\n",
            "\n",
            "Runs Scored in Inning: 0\n",
            "Runs Scored in Game: 3\n",
            "\n",
            "\n",
            "--------------- Inning 3 ---------------\n",
            "\n",
            "Bryce Harper - 0.488\n",
            "---- Strikeout - 1 Outs ----\n",
            "\n",
            "J.T. Realmuto - 0.688\n",
            "---- Groundout - 2 Outs ----\n",
            "\n",
            "Alec Bohm - 0.96\n",
            "---- Flyout - 3 Outs ----\n",
            "\n",
            "Runs Scored in Inning: 0\n",
            "Runs Scored in Game: 3\n",
            "\n",
            "\n",
            "--------------- Inning 4 ---------------\n",
            "\n",
            "Brandon Marsh - 0.99\n",
            "---- Flyout - 1 Outs ----\n",
            "\n",
            "Harrison Bader - 0.904\n",
            "---- Flyout - 2 Outs ----\n",
            "\n",
            "Johan Rojas - 0.853\n",
            "---- Flyout - 3 Outs ----\n",
            "\n",
            "Runs Scored in Inning: 0\n",
            "Runs Scored in Game: 3\n",
            "\n",
            "\n",
            "--------------- Inning 5 ---------------\n",
            "\n",
            "Bryson Stott - 0.302\n",
            "Walk!\n",
            "Bryson Stott hit in 0 runs\n",
            "Bases - 1B: 6, 2B: None, 3B: None\n",
            "\n",
            "Trea Turner - 0.838\n",
            "---- Flyout - 1 Outs ----\n",
            "\n",
            "Kyle Schwarber - 0.575\n",
            "---- Strikeout - 2 Outs ----\n",
            "\n",
            "Bryce Harper - 0.196\n",
            "Double!\n",
            "Bryce Harper hit in 0 runs\n",
            "Bases - 1B: None, 2B: 7, 3B: 6\n",
            "\n",
            "J.T. Realmuto - 0.028\n",
            "Single!\n",
            "J.T. Realmuto hit in 1 runs\n",
            "Bases - 1B: 8, 2B: None, 3B: 7\n",
            "\n",
            "Alec Bohm - 0.58\n",
            "---- Groundout - 3 Outs ----\n",
            "\n",
            "Runs Scored in Inning: 1\n",
            "Runs Scored in Game: 4\n",
            "\n",
            "\n",
            "--------------- Inning 6 ---------------\n",
            "\n",
            "Brandon Marsh - 0.957\n",
            "---- Flyout - 1 Outs ----\n",
            "\n",
            "Harrison Bader - 0.339\n",
            "Walk!\n",
            "Harrison Bader hit in 0 runs\n",
            "Bases - 1B: 9, 2B: None, 3B: None\n",
            "\n",
            "Johan Rojas - 0.786\n",
            "---- Double Play - 3 Outs ----\n",
            "\n",
            "Runs Scored in Inning: 0\n",
            "Runs Scored in Game: 4\n",
            "\n",
            "\n",
            "--------------- Inning 7 ---------------\n",
            "\n",
            "Bryson Stott - 0.677\n",
            "---- Groundout - 1 Outs ----\n",
            "\n",
            "Trea Turner - 0.531\n",
            "---- Groundout - 2 Outs ----\n",
            "\n",
            "Kyle Schwarber - 0.124\n",
            "Walk!\n",
            "Kyle Schwarber hit in 0 runs\n",
            "Bases - 1B: 10, 2B: None, 3B: None\n",
            "\n",
            "Bryce Harper - 0.237\n",
            "Walk!\n",
            "Bryce Harper hit in 0 runs\n",
            "Bases - 1B: 11, 2B: 10, 3B: None\n",
            "\n",
            "J.T. Realmuto - 0.875\n",
            "---- Flyout - 3 Outs ----\n",
            "\n",
            "Runs Scored in Inning: 0\n",
            "Runs Scored in Game: 4\n",
            "\n",
            "\n",
            "--------------- Inning 8 ---------------\n",
            "\n",
            "Alec Bohm - 0.957\n",
            "---- Flyout - 1 Outs ----\n",
            "\n",
            "Brandon Marsh - 0.314\n",
            "Double!\n",
            "Brandon Marsh hit in 0 runs\n",
            "Bases - 1B: None, 2B: 12, 3B: None\n",
            "\n",
            "Harrison Bader - 0.851\n",
            "---- Flyout - 2 Outs ----\n",
            "\n",
            "Johan Rojas - 0.562\n",
            "---- Groundout - 3 Outs ----\n",
            "\n",
            "Runs Scored in Inning: 0\n",
            "Runs Scored in Game: 4\n",
            "\n",
            "\n",
            "--------------- Inning 9 ---------------\n",
            "\n",
            "Bryson Stott - 0.115\n",
            "Walk!\n",
            "Bryson Stott hit in 0 runs\n",
            "Bases - 1B: 13, 2B: None, 3B: None\n",
            "\n",
            "Trea Turner - 0.639\n",
            "---- Groundout - 1 Outs ----\n",
            "\n",
            "Kyle Schwarber - 0.65\n",
            "---- Groundout - 2 Outs ----\n",
            "\n",
            "Bryce Harper - 0.821\n",
            "---- Flyout - 3 Outs ----\n",
            "\n",
            "Runs Scored in Inning: 0\n",
            "Runs Scored in Game: 4\n",
            "\n"
          ]
        },
        {
          "data": {
            "text/plain": [
              "4"
            ]
          },
          "execution_count": 68,
          "metadata": {},
          "output_type": "execute_result"
        }
      ],
      "source": [
        "# Simulate 9-inning game vs right handed pitcher\n",
        "right_hander_sim(9, 1, phillies_lineup_rhp, 0, False, False, False)"
      ]
    },
    {
      "cell_type": "code",
      "execution_count": 80,
      "metadata": {
        "colab": {
          "base_uri": "https://localhost:8080/"
        },
        "collapsed": true,
        "id": "5jr33HiQCjE3",
        "outputId": "b0b8d8dc-60aa-4ff3-c67d-83c661216cc3"
      },
      "outputs": [
        {
          "name": "stdout",
          "output_type": "stream",
          "text": [
            "Average Runs Scored: 4.452\n"
          ]
        }
      ],
      "source": [
        "# Execute Monte Carlo simulation vs right handed pitcher\n",
        "total_sum = 0\n",
        "for i in range(0, 999):\n",
        "  total_sum += right_hander_sim_no_print(9, 1, phillies_lineup_rhp, 0, False, False, False)\n",
        "\n",
        "print(f\"Average Runs Scored: {total_sum / 1000}\")"
      ]
    },
    {
      "cell_type": "code",
      "execution_count": 86,
      "metadata": {
        "colab": {
          "base_uri": "https://localhost:8080/"
        },
        "id": "5_ScdM6gIRFL",
        "outputId": "7005c88d-7a0e-4ef7-c38c-9f22483e838d"
      },
      "outputs": [
        {
          "name": "stdout",
          "output_type": "stream",
          "text": [
            "Average Runs Scored:  4.0305\n"
          ]
        }
      ],
      "source": [
        "# Phillies Sim\n",
        "# Simulate vs left handed pitcher\n",
        "total_sum = 0\n",
        "for i in range(0, 999):\n",
        "  total_sum += left_hander_sim_no_print(9, 1, phillies_lineup_lhp, 0, False, False, False)\n",
        "\n",
        "lhp_avg_runs = total_sum / 1000\n",
        "\n",
        "# Simulate vs right handed pitcher\n",
        "total_sum = 0\n",
        "for i in range(0, 999):\n",
        "  total_sum += right_hander_sim_no_print(9, 1, phillies_lineup_lhp, 0, False, False, False)\n",
        "\n",
        "rhp_avg_runs = total_sum / 1000\n",
        "\n",
        "\n",
        "print(f\"Average Runs Scored:  {(lhp_avg_runs + rhp_avg_runs) / 2}\")"
      ]
    },
    {
      "cell_type": "markdown",
      "metadata": {
        "id": "sxvXMguKs2Q9"
      },
      "source": [
        "## Testing the accuracy of the simulator (In progress)"
      ]
    },
    {
      "cell_type": "code",
      "execution_count": 93,
      "metadata": {
        "colab": {
          "base_uri": "https://localhost:8080/"
        },
        "id": "VypOLDxRtZnJ",
        "outputId": "36e3e1c0-9162-43cc-f583-ee38341365ed"
      },
      "outputs": [
        {
          "name": "stdout",
          "output_type": "stream",
          "text": [
            "-   Alex Verdugo      PAs: 364.0     RHP OBP: 0.308      LHP OBP: 0.226      Index: 0\n",
            "-   Austin Riley      PAs: 692.0     RHP OBP: 0.312      LHP OBP: 0.297      Index: 1\n",
            "-   Bryan De La Cruz      PAs: 74.0     RHP OBP: 0.27      LHP OBP: 0.154      Index: 2\n",
            "-   Drake Baldwin      PAs: 578.0     RHP OBP: 0.339      LHP OBP: 0.389      Index: 3\n",
            "-   Eli White      PAs: 326.0     RHP OBP: 0.269      LHP OBP: 0.272      Index: 4\n",
            "-   Ha-Seong Kim      PAs: 16.0     RHP OBP: 0.324      LHP OBP: 0.244      Index: 5\n",
            "-   Jake Fraley      PAs: 368.0     RHP OBP: 0.33      LHP OBP: 0.364      Index: 6\n",
            "-   Jarred Kelenic      PAs: 118.0     RHP OBP: 0.254      LHP OBP: 0.0      Index: 7\n",
            "-   Jurickson Profar      PAs: 392.0     RHP OBP: 0.362      LHP OBP: 0.355      Index: 8\n",
            "-   Marcell Ozuna      PAs: 808.0     RHP OBP: 0.344      LHP OBP: 0.395      Index: 9\n",
            "-   Matt Olson      PAs: 894.0     RHP OBP: 0.379      LHP OBP: 0.337      Index: 10\n",
            "-   Michael Harris II      PAs: 798.0     RHP OBP: 0.265      LHP OBP: 0.259      Index: 11\n",
            "-   Nacho Alvarez Jr.      PAs: 216.0     RHP OBP: 0.339      LHP OBP: 0.306      Index: 12\n",
            "-   Nick Allen      PAs: 598.0     RHP OBP: 0.279      LHP OBP: 0.298      Index: 13\n",
            "-   Ozzie Albies      PAs: 866.0     RHP OBP: 0.31      LHP OBP: 0.305      Index: 14\n",
            "-   Ronald Acuna Jr.      PAs: 460.0     RHP OBP: 0.413      LHP OBP: 0.363      Index: 15\n",
            "-   Sean Murphy      PAs: 436.0     RHP OBP: 0.281      LHP OBP: 0.336      Index: 16\n",
            "-   Stuart Fairchild      PAs: 40.0     RHP OBP: 0.2      LHP OBP: 0.314      Index: 17\n",
            "-   Vidal Brujan      PAs: 56.0     RHP OBP: 0.286      LHP OBP: 0.286      Index: 18\n"
          ]
        }
      ],
      "source": [
        "# Setting NL East lineups\n",
        "\n",
        "# Atlanta Braves\n",
        "braves_hitters = get_players(\"ATL\")\n",
        "print_players(braves_hitters)\n"
      ]
    },
    {
      "cell_type": "code",
      "execution_count": 94,
      "metadata": {
        "id": "NXp8FIM_vN7C"
      },
      "outputs": [],
      "source": [
        "# Create list for starting lineup\n",
        "braves_lineup_rhp = []\n",
        "braves_lineup_lhp = []\n",
        "\n",
        "# Set rhp lineup based on indexes from above code block\n",
        "braves_lineup_rhp.extend([braves_hitters[6], braves_hitters[8], braves_hitters[7],\n",
        "                            braves_hitters[1], braves_hitters[13], braves_hitters[11],\n",
        "                            braves_hitters[4], braves_hitters[9], braves_hitters[10]])\n",
        "\n",
        "# Set lhp lineup based on indexes from above code block\n",
        "braves_lineup_lhp.extend([braves_hitters[6], braves_hitters[8], braves_hitters[7],\n",
        "                            braves_hitters[1], braves_hitters[11], braves_hitters[13],\n",
        "                            braves_hitters[4], braves_hitters[9], braves_hitters[10]])"
      ]
    },
    {
      "cell_type": "code",
      "execution_count": 95,
      "metadata": {
        "colab": {
          "base_uri": "https://localhost:8080/"
        },
        "id": "Tf1LxydVvRHY",
        "outputId": "fcb56172-a2ec-4200-f337-450e7e420297"
      },
      "outputs": [
        {
          "name": "stdout",
          "output_type": "stream",
          "text": [
            "Average Runs Scored:  2.942\n"
          ]
        }
      ],
      "source": [
        "# Atlanta Braves Sim\n",
        "# Simulate vs left handed pitcher\n",
        "total_sum = 0\n",
        "for i in range(0, 999):\n",
        "  total_sum += left_hander_sim_no_print(9, 1, braves_lineup_lhp, 0, False, False, False)\n",
        "\n",
        "lhp_avg_runs = total_sum / 1000\n",
        "\n",
        "# Simulate vs left handed pitcher\n",
        "total_sum = 0\n",
        "for i in range(0, 999):\n",
        "  total_sum += right_hander_sim_no_print(9, 1, braves_lineup_rhp, 0, False, False, False)\n",
        "\n",
        "rhp_avg_runs = total_sum / 1000\n",
        "\n",
        "\n",
        "print(f\"Average Runs Scored:  {(lhp_avg_runs + rhp_avg_runs) / 2}\")"
      ]
    },
    {
      "cell_type": "markdown",
      "metadata": {
        "id": "oYuH315Qq9LY"
      },
      "source": [
        "## Analytical Simulations\n",
        "\n",
        "---\n",
        "\n",
        "\n"
      ]
    },
    {
      "cell_type": "markdown",
      "metadata": {
        "id": "mEZn-HqWrH_9"
      },
      "source": [
        "### No outs and runner on second vs. 1 out and runner on third?"
      ]
    },
    {
      "cell_type": "markdown",
      "metadata": {
        "id": "7541-8uTB5gn"
      },
      "source": [
        "vs RHP"
      ]
    },
    {
      "cell_type": "code",
      "execution_count": 87,
      "metadata": {
        "colab": {
          "base_uri": "https://localhost:8080/"
        },
        "collapsed": true,
        "id": "ZSzdBcknzo1n",
        "outputId": "ebdb8e71-654e-40dd-f234-0c3ae5227414"
      },
      "outputs": [],
      "source": [
        "\"\"\"\n",
        "s1 - Top the order, 0 outs, man on second\n",
        "s2 - Top the order, 1 out, man on third\n",
        "s3 - 4th in batting order, 0 outs, runner on second base\n",
        "s4 - 4th in batting order, 1 out, runner on third base\n",
        "s5 - 7th in batting order, 0 outs, runner on second base\n",
        "s6 - 7th in batting order, 1 out, runner on third base\n",
        "\"\"\"\n",
        "\n",
        "# Set number of trials\n",
        "num_trials = 10000\n",
        "\n",
        "# Simulate Top the order, 0 outs, man on second\n",
        "total_sum = 0\n",
        "for i in range(num_trials):\n",
        "  total_sum += right_hander_sim_no_print(1, 1, phillies_lineup_rhp, 0, False, True, False)\n",
        "  s1_avg_runs = total_sum / num_trials\n",
        "\n",
        "# Simulate Top the order, 1 out, man on third\n",
        "total_sum = 0\n",
        "for i in range(num_trials):\n",
        "  total_sum += right_hander_sim_no_print(1, 1, phillies_lineup_rhp, 1, False, False, True)\n",
        "  s2_avg_runs = total_sum / num_trials\n",
        "\n",
        "# Simulate middle of batting order, 0 outs, runner on second base\n",
        "total_sum = 0\n",
        "for i in range(num_trials):\n",
        "  total_sum += right_hander_sim_no_print(1, 4, phillies_lineup_rhp, 0, False, True, False)\n",
        "  s3_avg_runs = total_sum / num_trials\n",
        "\n",
        "# Simulate middle of batting order, 1 out, runner on third base\n",
        "total_sum = 0\n",
        "for i in range(num_trials):\n",
        "  total_sum += right_hander_sim_no_print(1, 4, phillies_lineup_rhp, 1, False, False, True)\n",
        "  s4_avg_runs = total_sum / num_trials\n",
        "\n",
        "# Simulate bottom of batting order, 0 outs, runner on second base\n",
        "total_sum = 0\n",
        "for i in range(num_trials):\n",
        "  total_sum += right_hander_sim_no_print(1, 7, phillies_lineup_rhp, 0, False, True, False)\n",
        "  s5_avg_runs = total_sum / num_trials\n",
        "\n",
        "# Simulate bottom of batting order, 1 out, runner on third base\n",
        "total_sum = 0\n",
        "for i in range(num_trials):\n",
        "  total_sum += right_hander_sim_no_print(1, 7, phillies_lineup_rhp, 1, False, False, True)\n",
        "  s6_avg_runs = total_sum / num_trials\n"
      ]
    },
    {
      "cell_type": "code",
      "execution_count": 88,
      "metadata": {
        "colab": {
          "base_uri": "https://localhost:8080/",
          "height": 452
        },
        "id": "T81EcETp_q4P",
        "outputId": "7fa10b0a-f6e1-482e-82ec-45e3fd92bbbb"
      },
      "outputs": [
        {
          "data": {
            "image/png": "[encoded data removed]",
            "text/plain": [
              "<Figure size 640x480 with 1 Axes>"
            ]
          },
          "metadata": {},
          "output_type": "display_data"
        }
      ],
      "source": [
        "# Visualize data\n",
        "import matplotlib.pyplot as plt\n",
        "import numpy as np\n",
        "\n",
        "# Labels for the scenarios\n",
        "labels = ['Top Order', 'Middle Order', 'Bottom Order']\n",
        "\n",
        "# Runs with runner on 2nd, 0 outs\n",
        "runner_on_2nd = [s1_avg_runs, s3_avg_runs, s5_avg_runs]\n",
        "\n",
        "# Runs with runner on 3rd, 1 out\n",
        "runner_on_3rd = [s2_avg_runs, s4_avg_runs, s6_avg_runs]\n",
        "\n",
        "# X locations for the groups\n",
        "x = np.arange(len(labels))\n",
        "width = 0.35  # Width of the bars\n",
        "\n",
        "# Create the plot\n",
        "fig, ax = plt.subplots()\n",
        "bars1 = ax.bar(x - width/2, runner_on_2nd, width, label='Runner on 2nd, 0 outs', color='blue')\n",
        "bars2 = ax.bar(x + width/2, runner_on_3rd, width, label='Runner on 3rd, 1 out', color='red')\n",
        "\n",
        "# Labels and formatting\n",
        "ax.set_ylabel('Average Runs Scored')\n",
        "ax.set_title('Average Runs by Batting Order and Base Situation vs RHP')\n",
        "ax.set_xticks(x)\n",
        "ax.set_xticklabels(labels)\n",
        "ax.legend()\n",
        "\n",
        "# Optionally add bar labels\n",
        "ax.bar_label(bars1, fmt='%.2f', padding=3)\n",
        "ax.bar_label(bars2, fmt='%.2f', padding=3)\n",
        "\n",
        "plt.show()"
      ]
    },
    {
      "cell_type": "markdown",
      "metadata": {
        "id": "npAI4_TTCETS"
      },
      "source": [
        "vs LHP"
      ]
    },
    {
      "cell_type": "code",
      "execution_count": 89,
      "metadata": {
        "colab": {
          "base_uri": "https://localhost:8080/"
        },
        "id": "d3g3yxVaCDJ5",
        "outputId": "f99f645d-3f07-451b-e55d-4ac167d4ebb6"
      },
      "outputs": [],
      "source": [
        "\"\"\"\n",
        "s1 - Top the order, 0 outs, man on second\n",
        "s2 - Top the order, 1 out, man on third\n",
        "s3 - 4th in batting order, 0 outs, runner on second base\n",
        "s4 - 4th in batting order, 1 out, runner on third base\n",
        "s5 - 7th in batting order, 0 outs, runner on second base\n",
        "s6 - 7th in batting order, 1 out, runner on third base\n",
        "\"\"\"\n",
        "\n",
        "\n",
        "# Set number of trials\n",
        "num_trials = 10000\n",
        "\n",
        "# Simulate Top the order, 0 outs, man on second\n",
        "total_sum = 0\n",
        "for i in range(num_trials):\n",
        "  total_sum += left_hander_sim_no_print(1, 1, phillies_lineup_lhp, 0, False, True, False)\n",
        "  s1_avg_runs = total_sum / num_trials\n",
        "\n",
        "# Simulate Top the order, 1 out, man on third\n",
        "total_sum = 0\n",
        "for i in range(num_trials):\n",
        "  total_sum += left_hander_sim_no_print(1, 1, phillies_lineup_lhp, 1, False, False, True)\n",
        "  s2_avg_runs = total_sum / num_trials\n",
        "\n",
        "# Simulate middle of batting order, 0 outs, runner on second base\n",
        "total_sum = 0\n",
        "for i in range(num_trials):\n",
        "  total_sum += left_hander_sim_no_print(1, 4, phillies_lineup_lhp, 0, False, True, False)\n",
        "  s3_avg_runs = total_sum / num_trials\n",
        "\n",
        "# Simulate middle of batting order, 1 out, runner on third base\n",
        "total_sum = 0\n",
        "for i in range(num_trials):\n",
        "  total_sum += left_hander_sim_no_print(1, 4, phillies_lineup_lhp, 1, False, False, True)\n",
        "  s4_avg_runs = total_sum / num_trials\n",
        "\n",
        "# Simulate bottom of batting order, 0 outs, runner on second base\n",
        "total_sum = 0\n",
        "for i in range(num_trials):\n",
        "  total_sum += left_hander_sim_no_print(1, 7, phillies_lineup_lhp, 0, False, True, False)\n",
        "  s5_avg_runs = total_sum / num_trials\n",
        "\n",
        "# Simulate bottom of batting order, 1 out, runner on third base\n",
        "total_sum = 0\n",
        "for i in range(num_trials):\n",
        "  total_sum += left_hander_sim_no_print(1, 7, phillies_lineup_lhp, 1, False, False, True)\n",
        "  s6_avg_runs = total_sum / num_trials"
      ]
    },
    {
      "cell_type": "code",
      "execution_count": 90,
      "metadata": {
        "colab": {
          "base_uri": "https://localhost:8080/",
          "height": 452
        },
        "id": "70TAIwZJCTv2",
        "outputId": "17b248f1-cdac-47d2-df1b-3c9e248abfe6"
      },
      "outputs": [
        {
          "data": {
            "image/png": "[encoded data removed]",
            "text/plain": [
              "<Figure size 640x480 with 1 Axes>"
            ]
          },
          "metadata": {},
          "output_type": "display_data"
        }
      ],
      "source": [
        "# Visualize data\n",
        "import matplotlib.pyplot as plt\n",
        "import numpy as np\n",
        "\n",
        "# Labels for the scenarios\n",
        "labels = ['Top Order', 'Middle Order', 'Bottom Order']\n",
        "\n",
        "# Runs with runner on 2nd, 0 outs\n",
        "runner_on_2nd = [s1_avg_runs, s3_avg_runs, s5_avg_runs]\n",
        "\n",
        "# Runs with runner on 3rd, 1 out\n",
        "runner_on_3rd = [s2_avg_runs, s4_avg_runs, s6_avg_runs]\n",
        "\n",
        "# X locations for the groups\n",
        "x = np.arange(len(labels))\n",
        "width = 0.35  # Width of the bars\n",
        "\n",
        "# Create the plot\n",
        "fig, ax = plt.subplots()\n",
        "bars1 = ax.bar(x - width/2, runner_on_2nd, width, label='Runner on 2nd, 0 outs', color='blue')\n",
        "bars2 = ax.bar(x + width/2, runner_on_3rd, width, label='Runner on 3rd, 1 out', color='red')\n",
        "\n",
        "# Labels and formatting\n",
        "ax.set_ylabel('Average Runs Scored')\n",
        "ax.set_title('Average Runs by Batting Order and Base Situation vs LHP')\n",
        "ax.set_xticks(x)\n",
        "ax.set_xticklabels(labels)\n",
        "ax.legend()\n",
        "\n",
        "# Optionally add bar labels\n",
        "ax.bar_label(bars1, fmt='%.2f', padding=3)\n",
        "ax.bar_label(bars2, fmt='%.2f', padding=3)\n",
        "\n",
        "plt.show()"
      ]
    }
  ],
  "metadata": {
    "colab": {
      "authorship_tag": "ABX9TyPCCVwzLRW4JRgHiO8csTWr",
      "include_colab_link": true,
      "provenance": [],
      "toc_visible": true
    },
    "kernelspec": {
      "display_name": "Python 3",
      "name": "python3"
    },
    "language_info": {
      "codemirror_mode": {
        "name": "ipython",
        "version": 3
      },
      "file_extension": ".py",
      "mimetype": "text/x-python",
      "name": "python",
      "nbconvert_exporter": "python",
      "pygments_lexer": "ipython3",
      "version": "3.11.5"
    }
  },
  "nbformat": 4,
  "nbformat_minor": 0
}
